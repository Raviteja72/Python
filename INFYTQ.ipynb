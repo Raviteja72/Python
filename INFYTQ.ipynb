{
 "cells": [
  {
   "cell_type": "code",
   "execution_count": 11,
   "metadata": {},
   "outputs": [
    {
     "name": "stdout",
     "output_type": "stream",
     "text": [
      "Enter no of persons : 4\n",
      "Enter daily weight : 2\n",
      "Enter array elements : 7\n",
      "Enter array elements : 8\n",
      "Enter array elements : 9\n",
      "Enter array elements : 5\n",
      "Person at last :  3\n"
     ]
    }
   ],
   "source": [
    "#MEATBALLS INFYTQ\n",
    "\n",
    "n = int(input(\"Enter no of persons : \"))\n",
    "m=0\n",
    "mp=0\n",
    "v=[0]*n\n",
    "x = int(input(\"Enter daily weight : \"))\n",
    "\n",
    "for i in range(n):\n",
    "    v[i] = int(input(\"Enter array elements : \"))\n",
    "    \n",
    "    \n",
    "for i in range(n):\n",
    "    v[i] = (v[i])//x\n",
    "    \n",
    "    \n",
    "for i in range(n):\n",
    "    if v[i] >= m:\n",
    "        m=v[i]\n",
    "        mp=i\n",
    "        \n",
    "print(\"Person at last : \",mp+1)"
   ]
  },
  {
   "cell_type": "code",
   "execution_count": null,
   "metadata": {},
   "outputs": [],
   "source": []
  },
  {
   "cell_type": "code",
   "execution_count": null,
   "metadata": {},
   "outputs": [],
   "source": []
  }
 ],
 "metadata": {
  "kernelspec": {
   "display_name": "Python 3",
   "language": "python",
   "name": "python3"
  },
  "language_info": {
   "codemirror_mode": {
    "name": "ipython",
    "version": 3
   },
   "file_extension": ".py",
   "mimetype": "text/x-python",
   "name": "python",
   "nbconvert_exporter": "python",
   "pygments_lexer": "ipython3",
   "version": "3.7.4"
  }
 },
 "nbformat": 4,
 "nbformat_minor": 2
}
