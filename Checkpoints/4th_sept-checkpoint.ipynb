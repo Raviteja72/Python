{
 "cells": [
  {
   "cell_type": "code",
   "execution_count": 57,
   "metadata": {},
   "outputs": [
    {
     "name": "stdout",
     "output_type": "stream",
     "text": [
      "['h', 'u', 'm', 'a', 'n']\n",
      "['h', 'u', 'm', 'a', 'n']\n",
      "['h', 'u', 'm', 'a', 'n']\n"
     ]
    }
   ],
   "source": [
    "letter = []\n",
    "\n",
    "for i in 'human':\n",
    "    letter.append(i)\n",
    "    \n",
    "print(letter)\n",
    "\n",
    "\n",
    "print([i for i in 'human'])\n",
    "\n",
    "print(list(map(lambda x:x, 'human')))"
   ]
  },
  {
   "cell_type": "code",
   "execution_count": 17,
   "metadata": {},
   "outputs": [
    {
     "name": "stdout",
     "output_type": "stream",
     "text": [
      "[2, 4, 6, 8]\n"
     ]
    }
   ],
   "source": [
    "def addition(n):\n",
    "    return n+n\n",
    "\n",
    "numbers = (1,2,3,4)\n",
    "n1 = list(map(addition,numbers))\n",
    "print(n1)"
   ]
  },
  {
   "cell_type": "code",
   "execution_count": 20,
   "metadata": {},
   "outputs": [
    {
     "name": "stdout",
     "output_type": "stream",
     "text": [
      "13  is prime\n",
      "24 is not prime\n",
      "56 is not prime\n",
      "19  is prime\n"
     ]
    }
   ],
   "source": [
    "def prime(n):\n",
    "    for i in range(2,n):\n",
    "        if(n%i == 0):\n",
    "            print(n,\"is not prime\")\n",
    "            break\n",
    "    else:\n",
    "        print(n,\" is prime\")\n",
    "        \n",
    "        \n",
    "numbers = (13,24,56,19)\n",
    "n1 = list(map(prime,numbers))\n",
    "#print(n1)"
   ]
  },
  {
   "cell_type": "code",
   "execution_count": 24,
   "metadata": {},
   "outputs": [
    {
     "name": "stdout",
     "output_type": "stream",
     "text": [
      "13  is prime\n",
      "24  is not prime\n",
      "56  is not prime\n",
      "19  is prime\n"
     ]
    }
   ],
   "source": [
    "def prime(n):\n",
    "    for i in range(2,n):\n",
    "        if(n%i == 0):\n",
    "            return False\n",
    "            break\n",
    "    else:\n",
    "        return True\n",
    "        \n",
    "        \n",
    "numbers = (13,24,56,19)\n",
    "n1 = list(map(prime,numbers))\n",
    "for i in range(4):\n",
    "    if n1[i] == True:\n",
    "        print(numbers[i],\" is prime\")\n",
    "    else:\n",
    "        print(numbers[i],\" is not prime\")"
   ]
  },
  {
   "cell_type": "code",
   "execution_count": 34,
   "metadata": {},
   "outputs": [
    {
     "name": "stdout",
     "output_type": "stream",
     "text": [
      "12\n",
      "2000\n",
      "100\n"
     ]
    }
   ],
   "source": [
    "a = lambda x: x+2\n",
    "print(a(10))\n",
    "\n",
    "\n",
    "b = (lambda x: x*20) (100)\n",
    "print(b)\n",
    "\n",
    "print((lambda y: y*10) (10))"
   ]
  },
  {
   "cell_type": "code",
   "execution_count": 37,
   "metadata": {},
   "outputs": [
    {
     "name": "stdout",
     "output_type": "stream",
     "text": [
      "30\n",
      "200\n"
     ]
    }
   ],
   "source": [
    "a = lambda x,y : x+y\n",
    "print(a(10,20))\n",
    "\n",
    "print((lambda a,b : a*b) (10,20))"
   ]
  },
  {
   "cell_type": "code",
   "execution_count": 4,
   "metadata": {},
   "outputs": [
    {
     "name": "stdout",
     "output_type": "stream",
     "text": [
      "[101, 202, 303]\n",
      "[[111], [121], [131], [112], [122], [132], [113], [123], [133], [211], [221], [231], [212], [222], [232], [213], [223], [233], [311], [321], [331], [312], [322], [332], [313], [323], [333]]\n",
      "[111, 222, 333]\n"
     ]
    }
   ],
   "source": [
    "a = [100,200,300]\n",
    "b = [1,2,3]\n",
    "c = [10,20,30]\n",
    "res = list(map(lambda x,y:x+y, a, b))\n",
    "print(res)\n",
    "\n",
    "res1 = [[i+j+z] for i in range(a+1)for j in range(b+1) for z in range(c+1)]\n",
    "print(res1)\n",
    "\n",
    "print(list(map(lambda x,y,z:x+y+z, a, b, c)))"
   ]
  },
  {
   "cell_type": "code",
   "execution_count": 42,
   "metadata": {},
   "outputs": [
    {
     "name": "stdout",
     "output_type": "stream",
     "text": [
      "[['R', 'A', 'V', 'I'], ['T', 'E', 'J', 'A'], ['A', 'N', 'N', 'A'], ['P', 'H', 'A', 'N', 'I']]\n"
     ]
    }
   ],
   "source": [
    "l = [\"RAVI\",\"TEJA\",\"ANNA\",\"PHANI\"]\n",
    "\n",
    "res = list(map(list, l))\n",
    "print(res)"
   ]
  },
  {
   "cell_type": "code",
   "execution_count": 63,
   "metadata": {},
   "outputs": [
    {
     "name": "stdout",
     "output_type": "stream",
     "text": [
      "Enter number : 12\n",
      "[2, 3, 4, 6]\n"
     ]
    }
   ],
   "source": [
    "n = int(input(\"Enter number : \"))\n",
    "num = [x for x in range(2,n) if n%x == 0]\n",
    "print(num)"
   ]
  },
  {
   "cell_type": "code",
   "execution_count": 71,
   "metadata": {},
   "outputs": [
    {
     "name": "stdout",
     "output_type": "stream",
     "text": [
      "Enter number : 30\n",
      "10\n",
      "[2, 3, 5, 7, 11, 13, 17, 19, 23, 29]\n"
     ]
    }
   ],
   "source": [
    "n = int(input(\"Enter number : \"))\n",
    "primes = [i for i in range(2,n+1) if all(i%j != 0 for j in range(2,int(i**0.5)+1))]\n",
    "print(len(primes))\n",
    "#res = [i for i in range(len(primes)+1) if primes[i]+primes[i+1] in primes]\n",
    "print(primes)\n",
    "#print(res)"
   ]
  },
  {
   "cell_type": "code",
   "execution_count": 83,
   "metadata": {},
   "outputs": [
    {
     "name": "stdout",
     "output_type": "stream",
     "text": [
      "Enter x,y,z,n : 1 1 1 2\n",
      "[[0, 0, 0], [0, 0, 1], [0, 1, 0], [1, 0, 0], [1, 1, 1]]\n"
     ]
    }
   ],
   "source": [
    "x,y,z,n = [int(x) for x in input(\"Enter x,y,z,n : \").split()]\n",
    "print([[i,j,k] for i in range(x+1) for j in range(y+1) for k in range(z+1) if i+j+k != n])"
   ]
  },
  {
   "cell_type": "markdown",
   "metadata": {},
   "source": []
  }
 ],
 "metadata": {
  "kernelspec": {
   "display_name": "Python 3",
   "language": "python",
   "name": "python3"
  },
  "language_info": {
   "codemirror_mode": {
    "name": "ipython",
    "version": 3
   },
   "file_extension": ".py",
   "mimetype": "text/x-python",
   "name": "python",
   "nbconvert_exporter": "python",
   "pygments_lexer": "ipython3",
   "version": "3.7.4"
  }
 },
 "nbformat": 4,
 "nbformat_minor": 2
}
