{
 "cells": [
  {
   "cell_type": "code",
   "execution_count": 4,
   "metadata": {},
   "outputs": [
    {
     "name": "stdout",
     "output_type": "stream",
     "text": [
      "Enter numbers : 5 4 3 2 7\n",
      "840\n"
     ]
    }
   ],
   "source": [
    "# consecutive sum\n",
    "\n",
    "l = list(map(int,input(\"Enter numbers : \").split()))\n",
    "\n",
    "n=len(l)\n",
    "s=1\n",
    "\n",
    "for i in range(n):\n",
    "    \n",
    "    s=s*l[i]\n",
    "    \n",
    "    \n",
    "    \n",
    "print(s)"
   ]
  },
  {
   "cell_type": "code",
   "execution_count": 7,
   "metadata": {},
   "outputs": [
    {
     "name": "stdout",
     "output_type": "stream",
     "text": [
      "Enter number : 100\n",
      "30\n"
     ]
    }
   ],
   "source": [
    "n=int(input(\"Enter number : \"))\n",
    "k=n\n",
    "m=n\n",
    "while(n!=2):\n",
    "    m=m*(n-1)\n",
    "    n=n-1\n",
    "    \n",
    "c=0 \n",
    "while(m!=0):\n",
    "    \n",
    "    if(m%10 == 0):\n",
    "        c=c+1\n",
    "    m=m//10\n",
    "    \n",
    "    \n",
    "    \n",
    "print(c)\n",
    "    "
   ]
  },
  {
   "cell_type": "code",
   "execution_count": 12,
   "metadata": {},
   "outputs": [
    {
     "name": "stdout",
     "output_type": "stream",
     "text": [
      "Enter string : abc abc2345 abc#$%()^\n",
      "6\n"
     ]
    }
   ],
   "source": [
    "n=input(\"Enter string : \")\n",
    "c=0\n",
    "for i in n:\n",
    "    if((i.isalpha() or i.isalnum() or i==\" \")):\n",
    "        continue\n",
    "    else:\n",
    "        c=c+1\n",
    "        \n",
    "        \n",
    "print(c)"
   ]
  },
  {
   "cell_type": "code",
   "execution_count": 19,
   "metadata": {},
   "outputs": [
    {
     "name": "stdout",
     "output_type": "stream",
     "text": [
      "Enter number : 5644456\n",
      "Enter removing : 5\n",
      "5\n"
     ]
    }
   ],
   "source": [
    "n=int(input(\"Enter number : \"))\n",
    "n=str(n)\n",
    "a=int(input(\"Enter removing : \"))\n",
    "c=0\n",
    "l=list(map(int,n))\n",
    "for i in l:\n",
    "    if(i==a):\n",
    "        continue\n",
    "    else:\n",
    "        c=c+1\n",
    "        \n",
    "        \n",
    "print(c)\n",
    "        "
   ]
  },
  {
   "cell_type": "code",
   "execution_count": 20,
   "metadata": {},
   "outputs": [
    {
     "name": "stdout",
     "output_type": "stream",
     "text": [
      "Enter no : 7\n",
      "Enter profits : 12 -12 13 -13 14 -14\n",
      "3\n"
     ]
    }
   ],
   "source": [
    "n=int(input(\"Enter no : \"))\n",
    "l=list(map(int,input(\"Enter profits : \").split()))\n",
    "c=0\n",
    "for i in l:\n",
    "    if i>0:\n",
    "        c=c+1\n",
    "    else:\n",
    "        continue\n",
    "        \n",
    "        \n",
    "print(c)\n",
    "\n"
   ]
  },
  {
   "cell_type": "code",
   "execution_count": 34,
   "metadata": {},
   "outputs": [
    {
     "name": "stdout",
     "output_type": "stream",
     "text": [
      "Enter number : 7\n",
      "8\n"
     ]
    }
   ],
   "source": [
    "#COLLEGE CODING ROUND 1\n",
    "\n",
    "#1. Nth fibonacci number \n",
    "\n",
    "def fibo(n):\n",
    "    n1=0\n",
    "    n2=1\n",
    "    s=0\n",
    "    c=0\n",
    "    if(n<=1):\n",
    "        return n1\n",
    "    else:\n",
    "        while(c<n-1):\n",
    "            s=n1+n2\n",
    "            n1=n2\n",
    "            n2=s\n",
    "            c=c+1\n",
    "        return n1\n",
    "       \n",
    "    \n",
    "    \n",
    "    \n",
    "n=int(input(\"Enter number : \"))\n",
    "    \n",
    "print(fibo(n))\n",
    "\n"
   ]
  },
  {
   "cell_type": "code",
   "execution_count": 22,
   "metadata": {},
   "outputs": [
    {
     "name": "stdout",
     "output_type": "stream",
     "text": [
      "Enter a and b :  700 725\n",
      "3\n"
     ]
    }
   ],
   "source": [
    "# 2. RANGE OF PRIMES\n",
    "\n",
    "\n",
    "def prime(a,b):\n",
    "    c=0\n",
    "    \n",
    "    for i in range(a,b+1):\n",
    "        \n",
    "        for j in range(2,i):\n",
    "            \n",
    "            if(i%j == 0):\n",
    "                break\n",
    "        else:\n",
    "            c=c+1\n",
    "    return c\n",
    "            \n",
    "            \n",
    "            \n",
    "a,b = map(int,input(\"Enter a and b :  \").split())\n",
    "\n",
    "print(prime(a,b))"
   ]
  },
  {
   "cell_type": "code",
   "execution_count": 8,
   "metadata": {},
   "outputs": [
    {
     "name": "stdout",
     "output_type": "stream",
     "text": [
      "Enter number : 582109\n",
      "85\n"
     ]
    }
   ],
   "source": [
    "# 3. Sum of cyclic numbers \n",
    "\n",
    "def summ(n):\n",
    "    n=str(n)\n",
    "    s=0\n",
    "    for i in range(len(n)):\n",
    "        for j in n[i:]:\n",
    "            s=s+int(j)\n",
    "            \n",
    "            \n",
    "\n",
    "    return s\n",
    "\n",
    "n=int(input(\"Enter number : \"))\n",
    "print(summ(n))\n",
    "\n",
    "\n",
    "'''\n",
    "def summ(n):\n",
    "    \n",
    "    n=str(n)\n",
    "    s,m=0,1\n",
    "    for i in n:\n",
    "        s=s+(m*int(i))\n",
    "        #print(i,\" \",m,\" \",s)\n",
    "        m=m+1\n",
    "        \n",
    "    return s\n",
    "\n",
    "\n",
    "\n",
    "n=int(input(\"Enter number : \"))\n",
    "\n",
    "print(summ(n))\n",
    "\n",
    "'''"
   ]
  },
  {
   "cell_type": "code",
   "execution_count": 2,
   "metadata": {},
   "outputs": [
    {
     "name": "stdout",
     "output_type": "stream",
     "text": [
      "Enter number : 582109\n",
      "85\n"
     ]
    }
   ],
   "source": [
    "\n",
    "    "
   ]
  },
  {
   "cell_type": "code",
   "execution_count": null,
   "metadata": {},
   "outputs": [],
   "source": []
  },
  {
   "cell_type": "code",
   "execution_count": null,
   "metadata": {},
   "outputs": [],
   "source": []
  }
 ],
 "metadata": {
  "kernelspec": {
   "display_name": "Python 3",
   "language": "python",
   "name": "python3"
  },
  "language_info": {
   "codemirror_mode": {
    "name": "ipython",
    "version": 3
   },
   "file_extension": ".py",
   "mimetype": "text/x-python",
   "name": "python",
   "nbconvert_exporter": "python",
   "pygments_lexer": "ipython3",
   "version": "3.7.4"
  }
 },
 "nbformat": 4,
 "nbformat_minor": 2
}
