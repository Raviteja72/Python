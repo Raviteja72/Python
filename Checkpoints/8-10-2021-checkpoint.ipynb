{
 "cells": [
  {
   "cell_type": "code",
   "execution_count": 3,
   "metadata": {},
   "outputs": [
    {
     "name": "stdout",
     "output_type": "stream",
     "text": [
      "Enter b1 h1 b2 h2 : 5 8 4 11\n",
      "22.0\n"
     ]
    }
   ],
   "source": [
    "#Largest area \n",
    "\n",
    "b1,h1,b2,h2 = map(float,input(\"Enter b1 h1 b2 h2 : \").split())\n",
    "\n",
    "def area(a,b):\n",
    "    return ((1/2) * a * b)\n",
    "\n",
    "\n",
    "a = area(b1,h1)\n",
    "b = area(b2,h2)\n",
    "\n",
    "if(a>b):\n",
    "    print(a)\n",
    "else:\n",
    "    print(b)"
   ]
  },
  {
   "cell_type": "code",
   "execution_count": 8,
   "metadata": {},
   "outputs": [
    {
     "name": "stdout",
     "output_type": "stream",
     "text": [
      "Enter bill : 24682\n",
      "22\n"
     ]
    }
   ],
   "source": [
    "#TotalBill\n",
    "\n",
    "\n",
    "n = int(input(\"Enter bill : \"))\n",
    "e=0\n",
    "o=0\n",
    "r=0\n",
    "\n",
    "while(n!=0):\n",
    "    r=n%10\n",
    "    if(r%2==0):\n",
    "        e=e+r\n",
    "    else:\n",
    "        o=o+r\n",
    "    n=n//10\n",
    "    \n",
    "if(o==0):\n",
    "    o=1\n",
    "if(e==0):\n",
    "    e=1\n",
    "    \n",
    "        \n",
    "        \n",
    "print(e*o)\n",
    "        "
   ]
  },
  {
   "cell_type": "code",
   "execution_count": 11,
   "metadata": {},
   "outputs": [
    {
     "name": "stdout",
     "output_type": "stream",
     "text": [
      "Enter two strings : abcdefghi abcdefghij\n",
      "j\n"
     ]
    }
   ],
   "source": [
    "a,b = map(str,input(\"Enter two strings : \").split())\n",
    "\n",
    "if(a==b):\n",
    "    print(\"NA\")\n",
    "else:\n",
    "    print(b[-1])"
   ]
  },
  {
   "cell_type": "code",
   "execution_count": 29,
   "metadata": {},
   "outputs": [
    {
     "name": "stdout",
     "output_type": "stream",
     "text": [
      "Enter range : 5\n",
      "Enter chemicals : -9 -8 7 6 5\n",
      "72\n"
     ]
    }
   ],
   "source": [
    "a = int(input(\"Enter range : \"))\n",
    "l = list(map(int,input(\"Enter chemicals : \").split()))\n",
    "m1=0\n",
    "m2=0\n",
    "for i in range(a):\n",
    "    if(l[i]<0):\n",
    "        l[i]=-l[i]\n",
    "        \n",
    "        \n",
    "    if(l[i] > m1):\n",
    "        m1 = l[i]\n",
    "        \n",
    "        \n",
    "        \n",
    "        \n",
    "for i in range(a):\n",
    "    if(l[i]<0):\n",
    "        l[i]=-l[i]\n",
    "        \n",
    "        \n",
    "    if ((l[i]>m2) and (l[i]!=m1)):\n",
    "        m2=l[i]\n",
    "        \n",
    "      \n",
    "    \n",
    "\n",
    "print(m1*m2)\n"
   ]
  },
  {
   "cell_type": "code",
   "execution_count": 30,
   "metadata": {},
   "outputs": [
    {
     "name": "stdout",
     "output_type": "stream",
     "text": [
      "Enter number : 123456789\n",
      "987654321\n"
     ]
    }
   ],
   "source": [
    "# Reversee\n",
    "\n",
    "\n",
    "\n",
    "a = int(input(\"Enter number : \"))\n",
    "rev=0\n",
    "\n",
    "\n",
    "while(a!=0):\n",
    "    r=a%10\n",
    "    rev=rev*10+r\n",
    "    a=a//10\n",
    "    \n",
    "    \n",
    "print(rev)"
   ]
  },
  {
   "cell_type": "code",
   "execution_count": 35,
   "metadata": {},
   "outputs": [
    {
     "name": "stdout",
     "output_type": "stream",
     "text": [
      "Enter number : 2514795\n",
      "27\n"
     ]
    }
   ],
   "source": [
    "n=int(input(\"Enter number : \"))\n",
    "s=0\n",
    "while(n!=0):\n",
    "    k=n%10\n",
    "    if((k%2)!=0):\n",
    "        s=s+k\n",
    "    n=n//10\n",
    "    \n",
    "    \n",
    "print(s)"
   ]
  },
  {
   "cell_type": "code",
   "execution_count": null,
   "metadata": {},
   "outputs": [],
   "source": []
  }
 ],
 "metadata": {
  "kernelspec": {
   "display_name": "Python 3",
   "language": "python",
   "name": "python3"
  },
  "language_info": {
   "codemirror_mode": {
    "name": "ipython",
    "version": 3
   },
   "file_extension": ".py",
   "mimetype": "text/x-python",
   "name": "python",
   "nbconvert_exporter": "python",
   "pygments_lexer": "ipython3",
   "version": "3.7.4"
  }
 },
 "nbformat": 4,
 "nbformat_minor": 2
}
