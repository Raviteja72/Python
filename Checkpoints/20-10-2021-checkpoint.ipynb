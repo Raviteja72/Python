{
 "cells": [
  {
   "cell_type": "code",
   "execution_count": 4,
   "metadata": {},
   "outputs": [
    {
     "name": "stdout",
     "output_type": "stream",
     "text": [
      "Enter x-axis and y-axis : -3 +5\n",
      "2nd quadrant\n"
     ]
    }
   ],
   "source": [
    "# Co-ordinate axes\n",
    "\n",
    "a,b=map(int,input(\"Enter x-axis and y-axis : \").split())\n",
    "\n",
    "if(a>0 and b>0):\n",
    "    print(\"1st quadrant\")\n",
    "elif(a>0 and b<0):\n",
    "    print(\"4th quadrant\")\n",
    "elif(a<0 and b>0):\n",
    "    print(\"2nd quadrant\")\n",
    "else:\n",
    "    print(\"3rd quadrant\")"
   ]
  },
  {
   "cell_type": "code",
   "execution_count": 5,
   "metadata": {},
   "outputs": [
    {
     "name": "stdout",
     "output_type": "stream",
     "text": [
      "Enter N and R : 10 6\n",
      "151200\n"
     ]
    }
   ],
   "source": [
    "# N people can be placed in R places  \n",
    "\n",
    "a,b=map(int,input(\"Enter N and R : \").split())\n",
    "f1=a\n",
    "b=(a-b)\n",
    "while(a>1):\n",
    "    f1=f1*(a-1)\n",
    "    a=a-1\n",
    "f2=b    \n",
    "while(b>1):\n",
    "    f2=f2*(b-1)\n",
    "    b=b-1\n",
    "    \n",
    "print(f1//f2)\n",
    "    "
   ]
  },
  {
   "cell_type": "code",
   "execution_count": 6,
   "metadata": {},
   "outputs": [
    {
     "name": "stdout",
     "output_type": "stream",
     "text": [
      "Enter people : 9\n",
      "36\n"
     ]
    }
   ],
   "source": [
    "# No of Handshakes\n",
    "\n",
    "a=int(input(\"Enter people : \"))\n",
    "\n",
    "print((a*(a-1))//2)"
   ]
  },
  {
   "cell_type": "code",
   "execution_count": 18,
   "metadata": {},
   "outputs": [
    {
     "name": "stdout",
     "output_type": "stream",
     "text": [
      "Enter values : 14 10 24 3\n",
      "282 / 30\n"
     ]
    }
   ],
   "source": [
    "# Addition of Fractions\n",
    "\n",
    "\n",
    "n1,d1,n2,d2 = map(int,input(\"Enter values : \").split())\n",
    "\n",
    "\n",
    "if(d1 == d2):\n",
    "    print((n1+n2),\"/\",d1)\n",
    "else:\n",
    "    print(((n1*d2)+(n2*d1)),\"/\",(d1*d2))"
   ]
  },
  {
   "cell_type": "code",
   "execution_count": 19,
   "metadata": {},
   "outputs": [
    {
     "name": "stdout",
     "output_type": "stream",
     "text": [
      "Enter number : 1234500000\n",
      "1234511111\n"
     ]
    }
   ],
   "source": [
    "# Replace 0's with 1's\n",
    "\n",
    "a=int(input(\"Enter number : \"))\n",
    "a=str(a)\n",
    "print(a.replace('0','1'))"
   ]
  },
  {
   "cell_type": "code",
   "execution_count": 46,
   "metadata": {},
   "outputs": [
    {
     "name": "stdout",
     "output_type": "stream",
     "text": [
      "Enter number : 50\n",
      "3 47  sum =  50\n",
      "7 43  sum =  50\n",
      "13 37  sum =  50\n",
      "19 31  sum =  50\n"
     ]
    }
   ],
   "source": [
    "# sum of primes with in a range\n",
    "\n",
    "a = int(input(\"Enter number : \"))\n",
    "l = list(map(int,range(1,a)))\n",
    "s=0\n",
    "p=[]\n",
    "ps=[]\n",
    "k=0\n",
    "for i in range(2,len(l)+1):\n",
    "    for j in range(2,i):\n",
    "        if(i%j == 0):\n",
    "            break\n",
    "    else:\n",
    "        p.append(i)\n",
    "    \n",
    "        #print(i,end=\"\")\n",
    "        #print(s,end=\",\")\n",
    "    \n",
    "\n",
    "\n",
    "for i in range(len(p)):\n",
    "    for j in range(i,len(p)):\n",
    "        #print(p[i],p[j])\n",
    "        if(p[i] + p[j] == a):\n",
    "            print(p[i],p[j],\" sum = \",a)\n",
    "            continue\n",
    "        \n",
    "        \n",
    "\n",
    "    \n",
    "    \n",
    "    \n",
    "    \n",
    "            \n",
    "    \n"
   ]
  },
  {
   "cell_type": "code",
   "execution_count": 60,
   "metadata": {},
   "outputs": [
    {
     "name": "stdout",
     "output_type": "stream",
     "text": [
      "Enter month and year : 2 2012\n",
      "29 days \n"
     ]
    }
   ],
   "source": [
    "# No of days in a month \n",
    "\n",
    "m,y=map(int,input(\"Enter month and year : \").split())\n",
    "\n",
    "if(m==2 and ((y%4 == 0) or ((y%100 == 0) and (y%400 == 0)))):\n",
    "    print(\"29 days \")\n",
    "elif(m==2):\n",
    "    print(\"28 days \")\n",
    "elif(m==1 or m==3 or m==5 or m==7 or m==8 or m==10 or m==12):\n",
    "    print(\"31 days \")\n",
    "else:\n",
    "    print(\"30 days \")"
   ]
  },
  {
   "cell_type": "code",
   "execution_count": 63,
   "metadata": {},
   "outputs": [
    {
     "name": "stdout",
     "output_type": "stream",
     "text": [
      "Enter digit and repetition : 897982 9\n",
      "2\n"
     ]
    }
   ],
   "source": [
    "# Repetition of a digit\n",
    "\n",
    "n,r = map(int,input(\"Enter digit and repetition : \").split())\n",
    "a=0\n",
    "c=0\n",
    "while(n!=0):\n",
    "    a=n%10\n",
    "    if(a==r):\n",
    "        c=c+1\n",
    "    n=n//10\n",
    "print(c)"
   ]
  },
  {
   "cell_type": "code",
   "execution_count": 73,
   "metadata": {},
   "outputs": [
    {
     "name": "stdout",
     "output_type": "stream",
     "text": [
      "Enter range and divisors : 100 4\n",
      "6,8,10,14,15,21,22,26,27,33,34,35,38,39,46,51,55,57,58,62,65,69,74,77,82,85,86,87,91,93,94,95,"
     ]
    }
   ],
   "source": [
    "# Range and Divisors\n",
    "\n",
    "n,d=map(int,input(\"Enter range and divisors : \").split())\n",
    "\n",
    "for i in range(1,n+1):\n",
    "    c=0\n",
    "    for j in range(1,i+1):\n",
    "        if(i%j == 0):\n",
    "            \n",
    "            c=c+1\n",
    "            #print(i,c)\n",
    "    if(c==d):\n",
    "        print(i,end=\",\")\n",
    "        \n",
    "        "
   ]
  },
  {
   "cell_type": "code",
   "execution_count": null,
   "metadata": {},
   "outputs": [],
   "source": []
  }
 ],
 "metadata": {
  "kernelspec": {
   "display_name": "Python 3",
   "language": "python",
   "name": "python3"
  },
  "language_info": {
   "codemirror_mode": {
    "name": "ipython",
    "version": 3
   },
   "file_extension": ".py",
   "mimetype": "text/x-python",
   "name": "python",
   "nbconvert_exporter": "python",
   "pygments_lexer": "ipython3",
   "version": "3.7.4"
  }
 },
 "nbformat": 4,
 "nbformat_minor": 2
}
