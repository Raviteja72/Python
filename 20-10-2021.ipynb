{
 "cells": [
  {
   "cell_type": "code",
   "execution_count": 4,
   "metadata": {},
   "outputs": [
    {
     "name": "stdout",
     "output_type": "stream",
     "text": [
      "Enter x-axis and y-axis : -3 +5\n",
      "2nd quadrant\n"
     ]
    }
   ],
   "source": [
    "# Co-ordinate axes\n",
    "\n",
    "a,b=map(int,input(\"Enter x-axis and y-axis : \").split())\n",
    "\n",
    "if(a>0 and b>0):\n",
    "    print(\"1st quadrant\")\n",
    "elif(a>0 and b<0):\n",
    "    print(\"4th quadrant\")\n",
    "elif(a<0 and b>0):\n",
    "    print(\"2nd quadrant\")\n",
    "else:\n",
    "    print(\"3rd quadrant\")"
   ]
  },
  {
   "cell_type": "code",
   "execution_count": 5,
   "metadata": {},
   "outputs": [
    {
     "name": "stdout",
     "output_type": "stream",
     "text": [
      "Enter N and R : 10 6\n",
      "151200\n"
     ]
    }
   ],
   "source": [
    "# N people can be placed in R places  \n",
    "\n",
    "a,b=map(int,input(\"Enter N and R : \").split())\n",
    "f1=a\n",
    "b=(a-b)\n",
    "while(a>1):\n",
    "    f1=f1*(a-1)\n",
    "    a=a-1\n",
    "f2=b    \n",
    "while(b>1):\n",
    "    f2=f2*(b-1)\n",
    "    b=b-1\n",
    "    \n",
    "print(f1//f2)\n",
    "    "
   ]
  },
  {
   "cell_type": "code",
   "execution_count": 6,
   "metadata": {},
   "outputs": [
    {
     "name": "stdout",
     "output_type": "stream",
     "text": [
      "Enter people : 9\n",
      "36\n"
     ]
    }
   ],
   "source": [
    "# No of Handshakes\n",
    "\n",
    "a=int(input(\"Enter people : \"))\n",
    "\n",
    "print((a*(a-1))//2)"
   ]
  },
  {
   "cell_type": "code",
   "execution_count": 18,
   "metadata": {},
   "outputs": [
    {
     "name": "stdout",
     "output_type": "stream",
     "text": [
      "Enter values : 14 10 24 3\n",
      "282 / 30\n"
     ]
    }
   ],
   "source": [
    "# Addition of Fractions\n",
    "\n",
    "\n",
    "n1,d1,n2,d2 = map(int,input(\"Enter values : \").split())\n",
    "\n",
    "\n",
    "if(d1 == d2):\n",
    "    print((n1+n2),\"/\",d1)\n",
    "else:\n",
    "    print(((n1*d2)+(n2*d1)),\"/\",(d1*d2))"
   ]
  },
  {
   "cell_type": "code",
   "execution_count": 19,
   "metadata": {},
   "outputs": [
    {
     "name": "stdout",
     "output_type": "stream",
     "text": [
      "Enter number : 1234500000\n",
      "1234511111\n"
     ]
    }
   ],
   "source": [
    "# Replace 0's with 1's\n",
    "\n",
    "a=int(input(\"Enter number : \"))\n",
    "a=str(a)\n",
    "print(a.replace('0','1'))"
   ]
  },
  {
   "cell_type": "code",
   "execution_count": 5,
   "metadata": {},
   "outputs": [
    {
     "name": "stdout",
     "output_type": "stream",
     "text": [
      "Enter number : 30\n",
      "7 23  sum =  30\n",
      "11 19  sum =  30\n",
      "13 17  sum =  30\n"
     ]
    }
   ],
   "source": [
    "# sum of primes with in a range\n",
    "\n",
    "a = int(input(\"Enter number : \"))\n",
    "l = list(map(int,range(1,a)))\n",
    "s=0\n",
    "p=[]\n",
    "ps=[]\n",
    "k=0\n",
    "for i in range(2,len(l)+1):\n",
    "    for j in range(2,i):\n",
    "        if(i%j == 0):\n",
    "            break\n",
    "    else:\n",
    "        p.append(i)\n",
    "    \n",
    "        #print(i,end=\"\")\n",
    "        #print(s,end=\",\")\n",
    "    \n",
    "\n",
    "\n",
    "for i in range(len(p)):\n",
    "    for j in range(i,len(p)):\n",
    "        #print(p[i],p[j])\n",
    "        if(p[i] + p[j] == a):\n",
    "            print(p[i],p[j],\" sum = \",a)\n",
    "            continue\n",
    "        \n",
    "        \n",
    "\n",
    "    \n",
    "    \n",
    "    \n",
    "    \n",
    "            \n",
    "    \n"
   ]
  },
  {
   "cell_type": "code",
   "execution_count": 60,
   "metadata": {},
   "outputs": [
    {
     "name": "stdout",
     "output_type": "stream",
     "text": [
      "Enter month and year : 2 2012\n",
      "29 days \n"
     ]
    }
   ],
   "source": [
    "# No of days in a month \n",
    "\n",
    "m,y=map(int,input(\"Enter month and year : \").split())\n",
    "\n",
    "if(m==2 and ((y%4 == 0) or ((y%100 == 0) and (y%400 == 0)))):\n",
    "    print(\"29 days \")\n",
    "elif(m==2):\n",
    "    print(\"28 days \")\n",
    "elif(m==1 or m==3 or m==5 or m==7 or m==8 or m==10 or m==12):\n",
    "    print(\"31 days \")\n",
    "else:\n",
    "    print(\"30 days \")"
   ]
  },
  {
   "cell_type": "code",
   "execution_count": 63,
   "metadata": {},
   "outputs": [
    {
     "name": "stdout",
     "output_type": "stream",
     "text": [
      "Enter digit and repetition : 897982 9\n",
      "2\n"
     ]
    }
   ],
   "source": [
    "# Repetition of a digit\n",
    "\n",
    "n,r = map(int,input(\"Enter digit and repetition : \").split())\n",
    "a=0\n",
    "c=0\n",
    "while(n!=0):\n",
    "    a=n%10\n",
    "    if(a==r):\n",
    "        c=c+1\n",
    "    n=n//10\n",
    "print(c)"
   ]
  },
  {
   "cell_type": "code",
   "execution_count": 73,
   "metadata": {},
   "outputs": [
    {
     "name": "stdout",
     "output_type": "stream",
     "text": [
      "Enter range and divisors : 100 4\n",
      "6,8,10,14,15,21,22,26,27,33,34,35,38,39,46,51,55,57,58,62,65,69,74,77,82,85,86,87,91,93,94,95,"
     ]
    }
   ],
   "source": [
    "# Range and Divisors\n",
    "\n",
    "n,d=map(int,input(\"Enter range and divisors : \").split())\n",
    "\n",
    "for i in range(1,n+1):\n",
    "    c=0\n",
    "    for j in range(1,i+1):\n",
    "        if(i%j == 0):\n",
    "            \n",
    "            c=c+1\n",
    "            #print(i,c)\n",
    "    if(c==d):\n",
    "        print(i,end=\",\")\n",
    "        \n",
    "        "
   ]
  },
  {
   "cell_type": "markdown",
   "metadata": {},
   "source": [
    "# ARRAYS\n"
   ]
  },
  {
   "cell_type": "code",
   "execution_count": 4,
   "metadata": {},
   "outputs": [
    {
     "name": "stdout",
     "output_type": "stream",
     "text": [
      "Enter size : 5\n",
      "Enter elements : 12 34 67 89 1\n",
      "12 67\n"
     ]
    }
   ],
   "source": [
    "# second smallest element \n",
    "\n",
    "n=int(input(\"Enter size : \"))\n",
    "a=list(map(int,input(\"Enter elements : \").split()))\n",
    "\n",
    "min1=min2=2000\n",
    "\n",
    "max1=max2=0\n",
    "for i in a:\n",
    "    if(i<min1):\n",
    "        min1=i\n",
    "    if(i>max1):\n",
    "        max1=i\n",
    "        \n",
    "for i in a:\n",
    "    if(max2<i and i!=max1):\n",
    "        max2=i\n",
    "    if(i<min2 and i!=min1):\n",
    "        min2=i\n",
    "        \n",
    "print(min2,max2)"
   ]
  },
  {
   "cell_type": "code",
   "execution_count": 14,
   "metadata": {},
   "outputs": [
    {
     "name": "stdout",
     "output_type": "stream",
     "text": [
      "Enter list : 10 20 30 40 50\n",
      "[50, 40, 30, 20, 10]\n"
     ]
    }
   ],
   "source": [
    "# Reversing a list\n",
    "\n",
    "a=list(map(int,input(\"Enter list : \").split()))\n",
    "print(a[::-1])"
   ]
  },
  {
   "cell_type": "code",
   "execution_count": 22,
   "metadata": {},
   "outputs": [
    {
     "name": "stdout",
     "output_type": "stream",
     "text": [
      "Enter list : 10 45 23 67 49\n",
      "[10, 23, 45, 49, 67]\n",
      "[67, 49, 45, 23, 10]\n"
     ]
    }
   ],
   "source": [
    "# sorting\n",
    "\n",
    "a=list(map(int,input(\"Enter list : \").split()))\n",
    "a.sort()\n",
    "print(a)\n",
    "a.sort(reverse=True)\n",
    "print(a)"
   ]
  },
  {
   "cell_type": "code",
   "execution_count": 33,
   "metadata": {},
   "outputs": [
    {
     "name": "stdout",
     "output_type": "stream",
     "text": [
      "Enter array : 12 34 56 9 8 6 1\n",
      "[9, 12, 34, 56] [8, 6, 1]\n"
     ]
    }
   ],
   "source": [
    "# sorting half A and half D\n",
    "\n",
    "a=list(map(int,input(\"Enter array : \").split()))\n",
    "f=[]\n",
    "s=[]\n",
    "n=len(a)//2\n",
    "\n",
    "for i in range(n+1):\n",
    "    f.append(a[i])\n",
    "    \n",
    "for i in range(n+1,len(a)):\n",
    "    s.append(a[i])\n",
    "\n",
    "    \n",
    "\n",
    "f.sort()\n",
    "s.sort(reverse=True)\n",
    "print(f,s)\n",
    "    "
   ]
  },
  {
   "cell_type": "code",
   "execution_count": 37,
   "metadata": {},
   "outputs": [
    {
     "name": "stdout",
     "output_type": "stream",
     "text": [
      "Enter array : 12 34 98 4 19 32 \n",
      "[12, 34, 98] \n",
      " [32, 19, 4]\n"
     ]
    }
   ],
   "source": [
    "# Sorting A D\n",
    "\n",
    "a=list(map(int,input(\"Enter array : \").split()))\n",
    "\n",
    "n1=a[:len(a)//2]\n",
    "n2=a[len(a)//2:]\n",
    "\n",
    "n1.sort()\n",
    "n2.sort(reverse=True)\n",
    "print(n1,\"\\n\",n2)"
   ]
  },
  {
   "cell_type": "code",
   "execution_count": 60,
   "metadata": {},
   "outputs": [
    {
     "name": "stdout",
     "output_type": "stream",
     "text": [
      "Enter elements : 1 2 2 1 1 3 4 5 6 7 1 1\n",
      "111112234567"
     ]
    }
   ],
   "source": [
    "# frequency of elements \n",
    "\n",
    "a=list(map(int,input(\"Enter elements : \").split()))\n",
    "dic={}\n",
    "for i in a:\n",
    "    if i in dic:\n",
    "        dic[i] = dic[i] + 1\n",
    "    else:\n",
    "        dic[i] = 1\n",
    "\n",
    "for k,v in dic.items():\n",
    "    print(str(k)*v,end=\"\")"
   ]
  },
  {
   "cell_type": "code",
   "execution_count": 12,
   "metadata": {},
   "outputs": [
    {
     "name": "stdout",
     "output_type": "stream",
     "text": [
      "Enter elements : 1 1 1 1 1 2 2 2 2 3 3 3 3 4 4 4 5 1 2 3 \n",
      "111111 22222 33333 444 5 "
     ]
    }
   ],
   "source": [
    "# frequency sorting\n",
    "\n",
    "a=list(map(int,input(\"Enter elements : \").split()))\n",
    "\n",
    "d={g:a.count(g) for g in a}\n",
    "\n",
    "for k,v in d.items():\n",
    "    print(str(k)*v,end=\" \")"
   ]
  },
  {
   "cell_type": "code",
   "execution_count": 13,
   "metadata": {},
   "outputs": [
    {
     "name": "stdout",
     "output_type": "stream",
     "text": [
      "Enter elements : 1 3 1 2 1 2 1 2 1 2 1 21\n",
      "1\n",
      "3\n",
      "2\n",
      "21\n"
     ]
    }
   ],
   "source": [
    "a =list(map(int,input(\"Enter elements : \").split()))\n",
    "\n",
    "dic={}\n",
    "\n",
    "for i in a:\n",
    "    if i in dic:\n",
    "        dic[i] = dic[i]+1\n",
    "    else:\n",
    "        dic[i] = 1\n",
    "        \n",
    "for k,v in dic.items():\n",
    "    print(k)"
   ]
  },
  {
   "cell_type": "code",
   "execution_count": 48,
   "metadata": {},
   "outputs": [
    {
     "name": "stdout",
     "output_type": "stream",
     "text": [
      "Enter elements : 1 2 3 4 1 2 3 4\n",
      "1 occurs: 2\n",
      "2 occurs: 2\n",
      "3 occurs: 2\n",
      "4 occurs: 2\n",
      "1 occurs: 2\n",
      "2 occurs: 2\n",
      "3 occurs: 2\n",
      "4 occurs: 2\n"
     ]
    }
   ],
   "source": [
    "a=list(map(int,input(\"Enter elements : \").split()))\n",
    "\n",
    "for i in a:\n",
    "    print(i,\"occurs:\",a.count(i))"
   ]
  },
  {
   "cell_type": "code",
   "execution_count": 51,
   "metadata": {},
   "outputs": [
    {
     "name": "stdout",
     "output_type": "stream",
     "text": [
      "10,20,30,40,50,\n",
      "\n",
      "1,2,3,4,5,"
     ]
    }
   ],
   "source": [
    "D={10:1,20:2,30:3,40:4,50:5}\n",
    "\n",
    "for i in D:\n",
    "    print(i,end=\",\")\n",
    "\n",
    "print(\"\\n\")\n",
    "for i in D:\n",
    "    print(D[i],end=\",\")"
   ]
  },
  {
   "cell_type": "code",
   "execution_count": 66,
   "metadata": {},
   "outputs": [
    {
     "name": "stdout",
     "output_type": "stream",
     "text": [
      "Enter array elements : 1111111111111111111 1234321 18981 1221\n",
      "1111111111111111111\n"
     ]
    },
    {
     "ename": "SystemExit",
     "evalue": "0",
     "output_type": "error",
     "traceback": [
      "An exception has occurred, use %tb to see the full traceback.\n",
      "\u001b[0;31mSystemExit\u001b[0m\u001b[0;31m:\u001b[0m 0\n"
     ]
    }
   ],
   "source": [
    "# longest palindrome\n",
    "\n",
    "import sys\n",
    "l=list(map(int,input(\"Enter array elements : \").split()))\n",
    "l.sort(reverse=True)\n",
    "for i in l:\n",
    "    if(str(i) == str(i)[::-1]):\n",
    "        print(\"Longest Palindrome\",i)\n",
    "        sys.exit(0)\n",
    "print(\"No palindrome exists\")"
   ]
  },
  {
   "cell_type": "code",
   "execution_count": 72,
   "metadata": {},
   "outputs": [
    {
     "name": "stdout",
     "output_type": "stream",
     "text": [
      "Enter elements : 66 12 1 2 57 34 2 66\n",
      "66 12 1 2 57 34 \n",
      " 6\n"
     ]
    }
   ],
   "source": [
    "# unique elements \n",
    "\n",
    "l=list(map(int,input(\"Enter elements : \").split()))\n",
    "d={}\n",
    "for i in l:\n",
    "    if i in d:\n",
    "        d[i]=d[i]+1\n",
    "    else:\n",
    "        d[i]=1\n",
    "c=0        \n",
    "for i in d:\n",
    "    c=c+1\n",
    "    print(i,end=\" \")\n",
    "    \n",
    "print(\"\\n\",c)\n",
    "    "
   ]
  },
  {
   "cell_type": "code",
   "execution_count": 73,
   "metadata": {},
   "outputs": [
    {
     "name": "stdout",
     "output_type": "stream",
     "text": [
      "Enter arrays : 100 200 200 200 333 333 333 2\n",
      "100\n",
      "2\n"
     ]
    }
   ],
   "source": [
    "# Elements that aren't repeated \n",
    "\n",
    "l=list(map(int,input(\"Enter arrays : \").split()))\n",
    "\n",
    "d = {}\n",
    "\n",
    "for i in l:\n",
    "    if i in d:\n",
    "        d[i]= d[i] + 1\n",
    "    else:\n",
    "        d[i]=1\n",
    "        \n",
    "for k,v in d.items():\n",
    "    if(d[k]==1):\n",
    "        print(\"Elements unique :\",k)"
   ]
  },
  {
   "cell_type": "code",
   "execution_count": 75,
   "metadata": {},
   "outputs": [
    {
     "name": "stdout",
     "output_type": "stream",
     "text": [
      "Enter arrays : 1 2 5 2 6 7 8\n",
      "2\n"
     ]
    }
   ],
   "source": [
    "# Elements that are repeating\n",
    "\n",
    "\n",
    "l=list(map(int,input(\"Enter arrays : \").split()))\n",
    "\n",
    "d = {}\n",
    "\n",
    "for i in l:\n",
    "    if i in d:\n",
    "        d[i]= d[i] + 1\n",
    "    else:\n",
    "        d[i]=1\n",
    "        \n",
    "for k,v in d.items():\n",
    "    if(d[k]>1):\n",
    "        print(\"Elements repeating : \",k)"
   ]
  },
  {
   "cell_type": "code",
   "execution_count": 78,
   "metadata": {},
   "outputs": [
    {
     "name": "stdout",
     "output_type": "stream",
     "text": [
      "Enter ele : 1 2 2 2 3 3 3 4 4 4 4\n"
     ]
    },
    {
     "data": {
      "text/plain": [
       "[1, 2, 3, 4]"
      ]
     },
     "execution_count": 78,
     "metadata": {},
     "output_type": "execute_result"
    }
   ],
   "source": [
    "l=list(map(int,input(\"Enter ele : \").split()))\n",
    "l1=[]\n",
    "for i in set(l):\n",
    "    l1.append(i)\n",
    "    \n",
    "l=l1\n",
    "l"
   ]
  },
  {
   "cell_type": "code",
   "execution_count": 14,
   "metadata": {},
   "outputs": [
    {
     "name": "stdout",
     "output_type": "stream",
     "text": [
      "Enter ele : 1 2 3 1 2 3 1 2 3\n",
      "1\n",
      "2\n",
      "3\n",
      "[]\n"
     ]
    }
   ],
   "source": [
    "# Removing duplicate elements\n",
    "l=list(map(int,input(\"Enter ele : \").split()))\n",
    "\n",
    "l1 =[]\n",
    "\n",
    "d={g:l.count(g) for g in l}\n",
    "\n",
    "\n",
    "        \n",
    "for k,v in d.items():\n",
    "    print(k)\n",
    "    \n",
    "    "
   ]
  },
  {
   "cell_type": "code",
   "execution_count": 2,
   "metadata": {},
   "outputs": [
    {
     "name": "stdout",
     "output_type": "stream",
     "text": [
      "1 2 3 4\n",
      "4 3 2 1\n"
     ]
    },
    {
     "data": {
      "text/plain": [
       "20"
      ]
     },
     "execution_count": 2,
     "metadata": {},
     "output_type": "execute_result"
    }
   ],
   "source": [
    "\n",
    "# Min Scalar product\n",
    "\n",
    "a=[int(d) for d in input('Enter a : ').split()]\n",
    "b=[int(d) for d in input('Enter b : ').split()]\n",
    "\n",
    "a.sort()\n",
    "b.sort(reverse=True)\n",
    "s=0\n",
    "for i in range(len(a)):\n",
    "    s=s+(a[i]*b[i])\n",
    "\n",
    "s"
   ]
  },
  {
   "cell_type": "code",
   "execution_count": 5,
   "metadata": {},
   "outputs": [
    {
     "name": "stdout",
     "output_type": "stream",
     "text": [
      "Enter a : 5 1 7 3 2\n",
      "Enter b : 5 1 2 6 2\n",
      "78\n"
     ]
    }
   ],
   "source": [
    "# Max scalar product\n",
    "\n",
    "a=[int(d) for d in input('Enter a : ').split()]\n",
    "b=[int(d) for d in input('Enter b : ').split()]\n",
    "\n",
    "a.sort()\n",
    "b.sort()\n",
    "s=0\n",
    "for i in range(len(a)):\n",
    "    s=s+(a[i]*b[i])\n",
    "    \n",
    "print(s)"
   ]
  },
  {
   "cell_type": "code",
   "execution_count": 1,
   "metadata": {},
   "outputs": [
    {
     "name": "stdout",
     "output_type": "stream",
     "text": [
      "Enter elements : 1 2 3 4 5 6 7 8 9 10\n",
      "Even =  5 \n",
      "Odd =  5\n"
     ]
    }
   ],
   "source": [
    "a=[int(d) for d in input(\"Enter elements : \").split()]\n",
    "e=0\n",
    "o=0\n",
    "for i in a:\n",
    "    if(i%2 == 0):\n",
    "        e=e+1\n",
    "    else:\n",
    "        o=o+1\n",
    "        \n",
    "print(\"Even = \",e,\"\\nOdd = \",o)"
   ]
  },
  {
   "cell_type": "code",
   "execution_count": 5,
   "metadata": {},
   "outputs": [
    {
     "name": "stdout",
     "output_type": "stream",
     "text": [
      "Enter : 2 2 2 2 2 2 1 3 3 3 4 \n",
      "22222213334"
     ]
    }
   ],
   "source": [
    "# frequency\n",
    "\n",
    "l=[int(d) for d in input(\"Enter : \").split()]\n",
    "\n",
    "dic={g:l.count(g) for g in l}\n",
    "\n",
    "for k,v in dic.items():\n",
    "    print(str(k)*v,end=\"\")"
   ]
  },
  {
   "cell_type": "code",
   "execution_count": 6,
   "metadata": {},
   "outputs": [
    {
     "name": "stdout",
     "output_type": "stream",
     "text": [
      "Enter : 2 2 2 2 2 2 2 1 1 3 3 3 4\n",
      "1122222223334"
     ]
    }
   ],
   "source": [
    "# frequency according to sorting\n",
    "\n",
    "l=[int(d) for d in input(\"Enter : \").split()]\n",
    "l.sort()\n",
    "\n",
    "dic={g:l.count(g) for g in l}\n",
    "\n",
    "for k,v in dic.items():\n",
    "    print(str(k)*v,end=\"\")"
   ]
  },
  {
   "cell_type": "code",
   "execution_count": 18,
   "metadata": {},
   "outputs": [
    {
     "name": "stdout",
     "output_type": "stream",
     "text": [
      "1 1\n",
      "2 2\n",
      "2 2\n",
      "3 3\n"
     ]
    },
    {
     "ename": "IndexError",
     "evalue": "list index out of range",
     "output_type": "error",
     "traceback": [
      "\u001b[0;31m---------------------------------------------------------------------------\u001b[0m",
      "\u001b[0;31mIndexError\u001b[0m                                Traceback (most recent call last)",
      "\u001b[0;32m<ipython-input-18-8430bfcf5dbe>\u001b[0m in \u001b[0;36m<module>\u001b[0;34m\u001b[0m\n\u001b[1;32m      5\u001b[0m \u001b[0;32mfor\u001b[0m \u001b[0mi\u001b[0m \u001b[0;32min\u001b[0m \u001b[0mrange\u001b[0m\u001b[0;34m(\u001b[0m\u001b[0mlen\u001b[0m\u001b[0;34m(\u001b[0m\u001b[0ma\u001b[0m\u001b[0;34m)\u001b[0m\u001b[0;34m)\u001b[0m\u001b[0;34m:\u001b[0m\u001b[0;34m\u001b[0m\u001b[0;34m\u001b[0m\u001b[0m\n\u001b[1;32m      6\u001b[0m     \u001b[0;32mfor\u001b[0m \u001b[0mj\u001b[0m \u001b[0;32min\u001b[0m \u001b[0mrange\u001b[0m\u001b[0;34m(\u001b[0m\u001b[0mlen\u001b[0m\u001b[0;34m(\u001b[0m\u001b[0ma\u001b[0m\u001b[0;34m[\u001b[0m\u001b[0mi\u001b[0m\u001b[0;34m]\u001b[0m\u001b[0;34m)\u001b[0m\u001b[0;34m)\u001b[0m\u001b[0;34m:\u001b[0m\u001b[0;34m\u001b[0m\u001b[0;34m\u001b[0m\u001b[0m\n\u001b[0;32m----> 7\u001b[0;31m         \u001b[0;32mif\u001b[0m\u001b[0;34m(\u001b[0m\u001b[0ma\u001b[0m\u001b[0;34m[\u001b[0m\u001b[0mi\u001b[0m\u001b[0;34m]\u001b[0m\u001b[0;34m[\u001b[0m\u001b[0mj\u001b[0m\u001b[0;34m]\u001b[0m \u001b[0;34m==\u001b[0m \u001b[0ma\u001b[0m\u001b[0;34m[\u001b[0m\u001b[0mj\u001b[0m\u001b[0;34m]\u001b[0m\u001b[0;34m[\u001b[0m\u001b[0mi\u001b[0m\u001b[0;34m]\u001b[0m\u001b[0;34m)\u001b[0m\u001b[0;34m:\u001b[0m\u001b[0;34m\u001b[0m\u001b[0;34m\u001b[0m\u001b[0m\n\u001b[0m\u001b[1;32m      8\u001b[0m             \u001b[0mprint\u001b[0m\u001b[0;34m(\u001b[0m\u001b[0ma\u001b[0m\u001b[0;34m[\u001b[0m\u001b[0mi\u001b[0m\u001b[0;34m]\u001b[0m\u001b[0;34m[\u001b[0m\u001b[0mj\u001b[0m\u001b[0;34m]\u001b[0m\u001b[0;34m,\u001b[0m\u001b[0ma\u001b[0m\u001b[0;34m[\u001b[0m\u001b[0mj\u001b[0m\u001b[0;34m]\u001b[0m\u001b[0;34m[\u001b[0m\u001b[0mi\u001b[0m\u001b[0;34m]\u001b[0m\u001b[0;34m)\u001b[0m\u001b[0;34m\u001b[0m\u001b[0;34m\u001b[0m\u001b[0m\n\u001b[1;32m      9\u001b[0m \u001b[0;34m\u001b[0m\u001b[0m\n",
      "\u001b[0;31mIndexError\u001b[0m: list index out of range"
     ]
    }
   ],
   "source": [
    "# 2-D arrays \n",
    "# In JAVA HASH MAP\n",
    "\n",
    "\n",
    "\n",
    "a = [[1,2],[2,3],[3,4],[4,5],[5,6]]\n",
    "\n",
    "for i in range(len(a)):\n",
    "    for j in range(len(a[i])):\n",
    "        if(a[i][j] == a[j][i]):\n",
    "            print(a[i][j],a[j][i])\n",
    "            \n",
    "    "
   ]
  },
  {
   "cell_type": "code",
   "execution_count": null,
   "metadata": {},
   "outputs": [],
   "source": []
  }
 ],
 "metadata": {
  "kernelspec": {
   "display_name": "Python 3",
   "language": "python",
   "name": "python3"
  },
  "language_info": {
   "codemirror_mode": {
    "name": "ipython",
    "version": 3
   },
   "file_extension": ".py",
   "mimetype": "text/x-python",
   "name": "python",
   "nbconvert_exporter": "python",
   "pygments_lexer": "ipython3",
   "version": "3.7.4"
  }
 },
 "nbformat": 4,
 "nbformat_minor": 2
}
