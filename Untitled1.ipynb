{
 "cells": [
  {
   "cell_type": "code",
   "execution_count": 30,
   "metadata": {},
   "outputs": [
    {
     "name": "stdout",
     "output_type": "stream",
     "text": [
      "5\n",
      "r\n",
      "10\n",
      "t\n",
      "20\n",
      "e\n",
      "32\n",
      "y\n",
      "45\n",
      "u\n",
      "78\n"
     ]
    }
   ],
   "source": [
    "lst = []\n",
    "scs = []\n",
    "for i in range(int(input())):\n",
    "    name = input()\n",
    "    score = float(input())\n",
    "    scs.append(score)\n",
    "    \n",
    "    lst.append([name,score])"
   ]
  },
  {
   "cell_type": "code",
   "execution_count": 31,
   "metadata": {},
   "outputs": [
    {
     "name": "stdout",
     "output_type": "stream",
     "text": [
      "[['r', 10.0], ['t', 20.0], ['e', 32.0], ['y', 45.0], ['u', 78.0]]\n"
     ]
    }
   ],
   "source": [
    "print(lst)"
   ]
  },
  {
   "cell_type": "code",
   "execution_count": 39,
   "metadata": {},
   "outputs": [],
   "source": [
    "lst.sort()"
   ]
  },
  {
   "cell_type": "code",
   "execution_count": 40,
   "metadata": {},
   "outputs": [
    {
     "data": {
      "text/plain": [
       "[['e', 32.0], ['r', 10.0], ['t', 20.0], ['u', 78.0], ['y', 45.0]]"
      ]
     },
     "execution_count": 40,
     "metadata": {},
     "output_type": "execute_result"
    }
   ],
   "source": [
    "lst"
   ]
  },
  {
   "cell_type": "code",
   "execution_count": 32,
   "metadata": {},
   "outputs": [
    {
     "name": "stdout",
     "output_type": "stream",
     "text": [
      "[10.0, 20.0, 32.0, 45.0, 78.0]\n"
     ]
    }
   ],
   "source": [
    "print(scs)"
   ]
  },
  {
   "cell_type": "code",
   "execution_count": 33,
   "metadata": {},
   "outputs": [],
   "source": [
    "scs.sort()"
   ]
  },
  {
   "cell_type": "code",
   "execution_count": 34,
   "metadata": {},
   "outputs": [
    {
     "data": {
      "text/plain": [
       "45.0"
      ]
     },
     "execution_count": 34,
     "metadata": {},
     "output_type": "execute_result"
    }
   ],
   "source": [
    "scs[-2]"
   ]
  },
  {
   "cell_type": "code",
   "execution_count": 36,
   "metadata": {},
   "outputs": [
    {
     "data": {
      "text/plain": [
       "10.0"
      ]
     },
     "execution_count": 36,
     "metadata": {},
     "output_type": "execute_result"
    }
   ],
   "source": [
    "lst[0][1]"
   ]
  },
  {
   "cell_type": "code",
   "execution_count": 37,
   "metadata": {},
   "outputs": [
    {
     "ename": "IndexError",
     "evalue": "list index out of range",
     "output_type": "error",
     "traceback": [
      "\u001b[0;31m---------------------------------------------------------------------------\u001b[0m",
      "\u001b[0;31mIndexError\u001b[0m                                Traceback (most recent call last)",
      "\u001b[0;32m<ipython-input-37-6d561fcd97ef>\u001b[0m in \u001b[0;36m<module>\u001b[0;34m\u001b[0m\n\u001b[0;32m----> 1\u001b[0;31m \u001b[0;32mfor\u001b[0m \u001b[0mi\u001b[0m \u001b[0;32min\u001b[0m \u001b[0mrange\u001b[0m\u001b[0;34m(\u001b[0m\u001b[0mlst\u001b[0m\u001b[0;34m[\u001b[0m\u001b[0mi\u001b[0m\u001b[0;34m]\u001b[0m\u001b[0;34m[\u001b[0m\u001b[0mi\u001b[0m\u001b[0;34m+\u001b[0m\u001b[0;36m1\u001b[0m\u001b[0;34m]\u001b[0m\u001b[0;34m)\u001b[0m\u001b[0;34m:\u001b[0m\u001b[0;34m\u001b[0m\u001b[0;34m\u001b[0m\u001b[0m\n\u001b[0m\u001b[1;32m      2\u001b[0m     \u001b[0;32mif\u001b[0m \u001b[0mi\u001b[0m \u001b[0;34m==\u001b[0m \u001b[0;36m45.0\u001b[0m\u001b[0;34m:\u001b[0m\u001b[0;34m\u001b[0m\u001b[0;34m\u001b[0m\u001b[0m\n\u001b[1;32m      3\u001b[0m         \u001b[0mprint\u001b[0m\u001b[0;34m(\u001b[0m\u001b[0mlst\u001b[0m\u001b[0;34m[\u001b[0m\u001b[0mi\u001b[0m\u001b[0;34m]\u001b[0m\u001b[0;34m)\u001b[0m\u001b[0;34m\u001b[0m\u001b[0;34m\u001b[0m\u001b[0m\n",
      "\u001b[0;31mIndexError\u001b[0m: list index out of range"
     ]
    }
   ],
   "source": [
    "for i in lst[i][i+1]:\n",
    "    if i == 45.0:\n",
    "        print(lst[i])"
   ]
  },
  {
   "cell_type": "code",
   "execution_count": 10,
   "metadata": {},
   "outputs": [
    {
     "name": "stdout",
     "output_type": "stream",
     "text": [
      "EntEr values : 2 2 2 3\n",
      "[[0, 0, 0], [0, 0, 1], [0, 0, 2], [0, 1, 0], [0, 1, 1], [0, 2, 0], [0, 2, 2], [1, 0, 0], [1, 0, 1], [1, 1, 0], [1, 1, 2], [1, 2, 1], [1, 2, 2], [2, 0, 0], [2, 0, 2], [2, 1, 1], [2, 1, 2], [2, 2, 0], [2, 2, 1], [2, 2, 2]]\n"
     ]
    }
   ],
   "source": [
    "a,b,c,n = [int(a) for a in input(\"EntEr values : \").split()]\n",
    "\n",
    "print([[i,j,z] for i in range(a+1) for j in range(b+1) for z in range(c+1) if(i+j+z)!=n])"
   ]
  },
  {
   "cell_type": "code",
   "execution_count": 15,
   "metadata": {},
   "outputs": [
    {
     "name": "stdout",
     "output_type": "stream",
     "text": [
      "[2, 3, 5, 7]\n"
     ]
    }
   ],
   "source": [
    "n=10\n",
    "print([i for i in range(2,n+1) if all(i%j != 0 for j in range(2,int(i**0.5)+1))])"
   ]
  },
  {
   "cell_type": "code",
   "execution_count": 25,
   "metadata": {},
   "outputs": [
    {
     "name": "stdout",
     "output_type": "stream",
     "text": [
      "5\n",
      "10 9 1 2 6\n",
      "9\n"
     ]
    }
   ],
   "source": [
    "n = int(input())\n",
    "arr = list(set(map(int, input().split())))\n",
    "arr.sort()\n",
    "\n",
    "print(arr[-2])"
   ]
  },
  {
   "cell_type": "markdown",
   "metadata": {},
   "source": []
  },
  {
   "cell_type": "code",
   "execution_count": 6,
   "metadata": {},
   "outputs": [
    {
     "name": "stdout",
     "output_type": "stream",
     "text": [
      "Enter source and destination : \n",
      "v i\n",
      "Enter no of adults and children : \n",
      "2 3\n",
      "Total amount :  95\n"
     ]
    }
   ],
   "source": [
    "print(\"Enter source and destination : \")\n",
    "s,d = input().split()\n",
    "amt = 0\n",
    "print(\"Enter no of adults and children : \")\n",
    "a,c = map(int, input().split())\n",
    "if(s==\"v\" and d==\"m\") or (s==\"m\" or d==\"v\"):\n",
    "    amt+=a*50+c*25\n",
    "elif(s==\"v\" and d==\"i\") or (s==\"m\" or d==\"g\"):\n",
    "    amt+=a*25+c*15\n",
    "elif(s==\"v\" and d==\"g\") or (s==\"m\" or d==\"i\"):\n",
    "    amt+=a*40+c*20\n",
    "    \n",
    "    \n",
    "print(\"Total amount : \",amt);"
   ]
  },
  {
   "cell_type": "code",
   "execution_count": 12,
   "metadata": {},
   "outputs": [
    {
     "name": "stdout",
     "output_type": "stream",
     "text": [
      "Element is  98\n"
     ]
    }
   ],
   "source": [
    "def SecondLargest(arr,arlen):\n",
    "    if(arlen < 2):\n",
    "        print(\"Yerripuka\");\n",
    "        return\n",
    "    first = second = -123456\n",
    "    for i in range(arlen):\n",
    "        if(arr[i] > first):\n",
    "            second = first\n",
    "            first = arr[i]\n",
    "            #print(\"Second \",second)\n",
    "            #print(\"First \",first)\n",
    "        elif(arr[i] > second and arr[i] != first):\n",
    "            second = arr[i]\n",
    "            \n",
    "    if(second == -123456):\n",
    "        print(\"Element not there\")\n",
    "    else:\n",
    "        print(\"Element is \",second)\n",
    "            \n",
    "            \n",
    "\n",
    "            \n",
    "arr = [100,100,12,3,56,98,100]\n",
    "n = len(arr)\n",
    "SecondLargest(arr,n)"
   ]
  },
  {
   "cell_type": "code",
   "execution_count": 14,
   "metadata": {},
   "outputs": [
    {
     "name": "stdout",
     "output_type": "stream",
     "text": [
      "cat batman latt matter cat matter cat cat latt latt\n",
      "3\n",
      "cat latt "
     ]
    }
   ],
   "source": [
    "l = list(input().split())\n",
    "n = int(input())\n",
    "d = {}\n",
    "for i in l:\n",
    "    d[i] = 0\n",
    "\n",
    "for i in l:\n",
    "    d[i] = d[i] + 1\n",
    "\n",
    "    \n",
    "for i in d:\n",
    "    if d[i]>=n:\n",
    "        print(i,end=\" \")"
   ]
  },
  {
   "cell_type": "code",
   "execution_count": 8,
   "metadata": {},
   "outputs": [
    {
     "name": "stdout",
     "output_type": "stream",
     "text": [
      "3\n",
      "1 23 125\n",
      "2\n"
     ]
    }
   ],
   "source": [
    "n = int(input())\n",
    "m = list(map(int, input().split()))\n",
    "c = 0\n",
    "\n",
    "for i in m:\n",
    "    for j in range(0,i+1):\n",
    "        if(j**3 == i):\n",
    "            if(j**3 > i):\n",
    "                break\n",
    "            c = c+1\n",
    "            \n",
    "            \n",
    "            \n",
    "print(c)"
   ]
  },
  {
   "cell_type": "code",
   "execution_count": 15,
   "metadata": {},
   "outputs": [
    {
     "name": "stdout",
     "output_type": "stream",
     "text": [
      "4689\n",
      "27\n"
     ]
    }
   ],
   "source": [
    "def prime(n):\n",
    "    for i in range(2,n//2+1):\n",
    "        if(n%i == 0):\n",
    "            return 0\n",
    "            \n",
    "    return 1\n",
    "\n",
    "\n",
    "n = int(input())\n",
    "sum1 = 0\n",
    "temp = n\n",
    "while(temp!=0):\n",
    "    if prime(temp%10) == 0:\n",
    "        sum1 = sum1 + temp%10\n",
    "    temp = temp//10\n",
    "\n",
    "    \n",
    "print(sum1)\n",
    "\n",
    "\n"
   ]
  },
  {
   "cell_type": "code",
   "execution_count": 23,
   "metadata": {},
   "outputs": [
    {
     "ename": "TypeError",
     "evalue": "unsupported operand type(s) for +=: 'builtin_function_or_method' and 'list'",
     "output_type": "error",
     "traceback": [
      "\u001b[0;31m---------------------------------------------------------------------------\u001b[0m",
      "\u001b[0;31mTypeError\u001b[0m                                 Traceback (most recent call last)",
      "\u001b[0;32m<ipython-input-23-80b8e0ae5f56>\u001b[0m in \u001b[0;36m<module>\u001b[0;34m\u001b[0m\n\u001b[1;32m      9\u001b[0m \u001b[0ml\u001b[0m \u001b[0;34m=\u001b[0m \u001b[0mlist\u001b[0m\u001b[0;34m(\u001b[0m\u001b[0mmap\u001b[0m\u001b[0;34m(\u001b[0m\u001b[0mprime\u001b[0m\u001b[0;34m,\u001b[0m\u001b[0mn\u001b[0m\u001b[0;34m)\u001b[0m\u001b[0;34m)\u001b[0m\u001b[0;34m\u001b[0m\u001b[0;34m\u001b[0m\u001b[0m\n\u001b[1;32m     10\u001b[0m \u001b[0;32mfor\u001b[0m \u001b[0mi\u001b[0m \u001b[0;32min\u001b[0m \u001b[0ml\u001b[0m\u001b[0;34m:\u001b[0m\u001b[0;34m\u001b[0m\u001b[0;34m\u001b[0m\u001b[0m\n\u001b[0;32m---> 11\u001b[0;31m     \u001b[0msum\u001b[0m\u001b[0;34m+=\u001b[0m\u001b[0ml\u001b[0m\u001b[0;34m\u001b[0m\u001b[0;34m\u001b[0m\u001b[0m\n\u001b[0m\u001b[1;32m     12\u001b[0m \u001b[0;34m\u001b[0m\u001b[0m\n\u001b[1;32m     13\u001b[0m \u001b[0mprint\u001b[0m\u001b[0;34m(\u001b[0m\u001b[0msum\u001b[0m\u001b[0;34m)\u001b[0m\u001b[0;34m\u001b[0m\u001b[0;34m\u001b[0m\u001b[0m\n",
      "\u001b[0;31mTypeError\u001b[0m: unsupported operand type(s) for +=: 'builtin_function_or_method' and 'list'"
     ]
    }
   ],
   "source": [
    "def prime(n):\n",
    "    for i in range(2,n**2+1):\n",
    "        if(n%i==0):\n",
    "            return i\n",
    "\n",
    "    \n",
    "sum1 = 0\n",
    "n = [1,2,3,4,5]\n",
    "l = list(map(prime,n))          \n",
    "for i in l:\n",
    "    sum+=l\n",
    "    \n",
    "print(sum)"
   ]
  },
  {
   "cell_type": "code",
   "execution_count": 4,
   "metadata": {},
   "outputs": [
    {
     "name": "stdout",
     "output_type": "stream",
     "text": [
      "Enter string : rav! tej0\n",
      "2\n"
     ]
    }
   ],
   "source": [
    "n = input(\"Enter string : \")\n",
    "c = k = 0\n",
    "for i in n.split():\n",
    "    if(i.isalpha()):\n",
    "        c= c+1\n",
    "    else:\n",
    "        k = k+1\n",
    "        \n",
    "print(k)"
   ]
  },
  {
   "cell_type": "code",
   "execution_count": 7,
   "metadata": {},
   "outputs": [
    {
     "name": "stdout",
     "output_type": "stream",
     "text": [
      "Enter range : 5\n",
      "Enter numbers :1 23 100 81 22\n",
      "1 100 81 "
     ]
    }
   ],
   "source": [
    "n = int(input(\"Enter range : \"))\n",
    "l = list(map(int, input(\"Enter numbers :\").split()))\n",
    "for i in l:\n",
    "    for j in range(i+1):\n",
    "        if(j**2 == i):\n",
    "            print(i,end=\" \")\n",
    "            "
   ]
  },
  {
   "cell_type": "code",
   "execution_count": null,
   "metadata": {},
   "outputs": [],
   "source": []
  }
 ],
 "metadata": {
  "kernelspec": {
   "display_name": "Python 3",
   "language": "python",
   "name": "python3"
  },
  "language_info": {
   "codemirror_mode": {
    "name": "ipython",
    "version": 3
   },
   "file_extension": ".py",
   "mimetype": "text/x-python",
   "name": "python",
   "nbconvert_exporter": "python",
   "pygments_lexer": "ipython3",
   "version": "3.7.4"
  }
 },
 "nbformat": 4,
 "nbformat_minor": 2
}
