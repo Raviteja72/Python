{
 "cells": [
  {
   "cell_type": "code",
   "execution_count": 5,
   "metadata": {},
   "outputs": [
    {
     "name": "stdout",
     "output_type": "stream",
     "text": [
      "Roll_no :  10 \n",
      "Name :  Ravi \n",
      "Grade :  9.8\n"
     ]
    }
   ],
   "source": [
    "class student:\n",
    "    def __init__(self):\n",
    "        self.roll_no=10\n",
    "        self.name=\"Ravi\"\n",
    "        self.__grade=9.8\n",
    "    def display(self):\n",
    "        print(\"Roll_no : \",self.roll_no,\"\\nName : \",self.name,\"\\nGrade : \",self._student__grade)\n",
    "        \n",
    "\n",
    "s = student()\n",
    "s.display()"
   ]
  },
  {
   "cell_type": "code",
   "execution_count": 6,
   "metadata": {},
   "outputs": [
    {
     "name": "stdout",
     "output_type": "stream",
     "text": [
      "Acco_no :  975254151652 \n",
      "Salary :  RaviTeja \n",
      "Salary :  87676\n",
      "\n",
      "Acco_no :  975254151652 \n",
      "Salary :  RaviTeja \n",
      "Salary :  87676 \n",
      "Loan :  198765\n"
     ]
    }
   ],
   "source": [
    "class bank_details:\n",
    "    def __init__(self):\n",
    "        self.acc_no = 975254151652\n",
    "        self.name = \"RaviTeja\"\n",
    "        self.salary = 87676\n",
    "        self.__loan = 198765\n",
    "    def display_to_bank_clerk(self):\n",
    "        print(\"Acco_no : \",self.acc_no,\"\\nSalary : \",self.name,\"\\nSalary : \",self.salary)\n",
    "    def display_to_manager(self):\n",
    "        print(\"\\nAcco_no : \",self.acc_no,\"\\nSalary : \",self.name,\"\\nSalary : \",self.salary,\"\\nLoan : \",self._bank_details__loan)\n",
    "        \n",
    "    \n",
    "b = bank_details()\n",
    "b.display_to_bank_clerk()\n",
    "b.display_to_manager()"
   ]
  },
  {
   "cell_type": "code",
   "execution_count": 9,
   "metadata": {},
   "outputs": [
    {
     "name": "stdout",
     "output_type": "stream",
     "text": [
      "Name :  Ravi\n",
      "Marks :  98\n",
      "HI\n",
      "Name :  .\n",
      "Marks :  0\n",
      "HI\n"
     ]
    }
   ],
   "source": [
    "class person:\n",
    "    def __init__(self,name=\".\",marks=0):\n",
    "        self.n = name\n",
    "        self.m = marks\n",
    "    def display(self):\n",
    "        print(\"Name : \",self.n)\n",
    "        print(\"Marks : \",self.m)\n",
    "        print(\"HI\")\n",
    "        \n",
    "p = person(\"Ravi\",98)\n",
    "p.display()\n",
    "#q = person()\n",
    "#q.display()"
   ]
  },
  {
   "cell_type": "code",
   "execution_count": 11,
   "metadata": {},
   "outputs": [
    {
     "name": "stdout",
     "output_type": "stream",
     "text": [
      "Area of rectangle :  200\n",
      "Area of trainagle :  100.0\n"
     ]
    }
   ],
   "source": [
    "## INHERITANCE\n",
    "\n",
    "class A:\n",
    "    def __init__(self):\n",
    "        self.x = 10\n",
    "        self.y = 20\n",
    "    def area_rect(self):\n",
    "        print(\"Area of rectangle : \",self.x * self.y)\n",
    "\n",
    "class B(A):\n",
    "    def area_tri(self):\n",
    "        print(\"Area of trainagle : \",1/2 * self.x * self.y)\n",
    "        \n",
    "        \n",
    "        \n",
    "x1 = B()\n",
    "x1.area_rect()\n",
    "x1.area_tri()"
   ]
  },
  {
   "cell_type": "code",
   "execution_count": 15,
   "metadata": {},
   "outputs": [
    {
     "ename": "TypeError",
     "evalue": "add() missing 2 required positional arguments: 'n' and 'm'",
     "output_type": "error",
     "traceback": [
      "\u001b[0;31m---------------------------------------------------------------------------\u001b[0m",
      "\u001b[0;31mTypeError\u001b[0m                                 Traceback (most recent call last)",
      "\u001b[0;32m<ipython-input-15-be84a485da30>\u001b[0m in \u001b[0;36m<module>\u001b[0;34m\u001b[0m\n\u001b[1;32m     11\u001b[0m \u001b[0;34m\u001b[0m\u001b[0m\n\u001b[1;32m     12\u001b[0m \u001b[0ms\u001b[0m \u001b[0;34m=\u001b[0m \u001b[0mstudent\u001b[0m\u001b[0;34m(\u001b[0m\u001b[0;34m)\u001b[0m\u001b[0;34m\u001b[0m\u001b[0;34m\u001b[0m\u001b[0m\n\u001b[0;32m---> 13\u001b[0;31m \u001b[0ms\u001b[0m\u001b[0;34m.\u001b[0m\u001b[0madd\u001b[0m\u001b[0;34m(\u001b[0m\u001b[0;34m)\u001b[0m\u001b[0;34m\u001b[0m\u001b[0;34m\u001b[0m\u001b[0m\n\u001b[0m",
      "\u001b[0;31mTypeError\u001b[0m: add() missing 2 required positional arguments: 'n' and 'm'"
     ]
    }
   ],
   "source": [
    "## passing parameters to methods\n",
    "\n",
    "class student:\n",
    "    n =0\n",
    "    m =0\n",
    "    def __init__(self):\n",
    "        n = 100\n",
    "        m = 200\n",
    "    def add(self):\n",
    "        print(\"Addition : \",self.n+self.m)\n",
    "        \n",
    "    def add(self,n,m):\n",
    "        print(\"Addition : \",self.n + self.m)\n",
    "        \n",
    "s = student()\n",
    "s.add()"
   ]
  },
  {
   "cell_type": "code",
   "execution_count": 22,
   "metadata": {},
   "outputs": [
    {
     "ename": "AttributeError",
     "evalue": "type object 'student' has no attribute 'n'",
     "output_type": "error",
     "traceback": [
      "\u001b[0;31m---------------------------------------------------------------------------\u001b[0m",
      "\u001b[0;31mAttributeError\u001b[0m                            Traceback (most recent call last)",
      "\u001b[0;32m<ipython-input-22-803ed854bb0d>\u001b[0m in \u001b[0;36m<module>\u001b[0;34m\u001b[0m\n\u001b[0;32m----> 1\u001b[0;31m \u001b[0;32mclass\u001b[0m \u001b[0mstudent\u001b[0m\u001b[0;34m:\u001b[0m\u001b[0;34m\u001b[0m\u001b[0;34m\u001b[0m\u001b[0m\n\u001b[0m\u001b[1;32m      2\u001b[0m     \u001b[0mn\u001b[0m \u001b[0;34m=\u001b[0m \u001b[0;36m10\u001b[0m\u001b[0;34m\u001b[0m\u001b[0;34m\u001b[0m\u001b[0m\n\u001b[1;32m      3\u001b[0m     \u001b[0mprint\u001b[0m\u001b[0;34m(\u001b[0m\u001b[0;34m\"inside student class\"\u001b[0m\u001b[0;34m,\u001b[0m\u001b[0mstudent\u001b[0m\u001b[0;34m.\u001b[0m\u001b[0mn\u001b[0m\u001b[0;34m)\u001b[0m\u001b[0;34m\u001b[0m\u001b[0;34m\u001b[0m\u001b[0m\n\u001b[1;32m      4\u001b[0m     \u001b[0;32mdef\u001b[0m \u001b[0mdisplay\u001b[0m\u001b[0;34m(\u001b[0m\u001b[0mself\u001b[0m\u001b[0;34m)\u001b[0m\u001b[0;34m:\u001b[0m\u001b[0;34m\u001b[0m\u001b[0;34m\u001b[0m\u001b[0m\n\u001b[1;32m      5\u001b[0m         \u001b[0mprint\u001b[0m\u001b[0;34m(\u001b[0m\u001b[0;34m\"inside class method\"\u001b[0m\u001b[0;34m,\u001b[0m\u001b[0mself\u001b[0m\u001b[0;34m.\u001b[0m\u001b[0mn\u001b[0m\u001b[0;34m)\u001b[0m\u001b[0;34m\u001b[0m\u001b[0;34m\u001b[0m\u001b[0m\n",
      "\u001b[0;32m<ipython-input-22-803ed854bb0d>\u001b[0m in \u001b[0;36mstudent\u001b[0;34m()\u001b[0m\n\u001b[1;32m      1\u001b[0m \u001b[0;32mclass\u001b[0m \u001b[0mstudent\u001b[0m\u001b[0;34m:\u001b[0m\u001b[0;34m\u001b[0m\u001b[0;34m\u001b[0m\u001b[0m\n\u001b[1;32m      2\u001b[0m     \u001b[0mn\u001b[0m \u001b[0;34m=\u001b[0m \u001b[0;36m10\u001b[0m\u001b[0;34m\u001b[0m\u001b[0;34m\u001b[0m\u001b[0m\n\u001b[0;32m----> 3\u001b[0;31m     \u001b[0mprint\u001b[0m\u001b[0;34m(\u001b[0m\u001b[0;34m\"inside student class\"\u001b[0m\u001b[0;34m,\u001b[0m\u001b[0mstudent\u001b[0m\u001b[0;34m.\u001b[0m\u001b[0mn\u001b[0m\u001b[0;34m)\u001b[0m\u001b[0;34m\u001b[0m\u001b[0;34m\u001b[0m\u001b[0m\n\u001b[0m\u001b[1;32m      4\u001b[0m     \u001b[0;32mdef\u001b[0m \u001b[0mdisplay\u001b[0m\u001b[0;34m(\u001b[0m\u001b[0mself\u001b[0m\u001b[0;34m)\u001b[0m\u001b[0;34m:\u001b[0m\u001b[0;34m\u001b[0m\u001b[0;34m\u001b[0m\u001b[0m\n\u001b[1;32m      5\u001b[0m         \u001b[0mprint\u001b[0m\u001b[0;34m(\u001b[0m\u001b[0;34m\"inside class method\"\u001b[0m\u001b[0;34m,\u001b[0m\u001b[0mself\u001b[0m\u001b[0;34m.\u001b[0m\u001b[0mn\u001b[0m\u001b[0;34m)\u001b[0m\u001b[0;34m\u001b[0m\u001b[0;34m\u001b[0m\u001b[0m\n",
      "\u001b[0;31mAttributeError\u001b[0m: type object 'student' has no attribute 'n'"
     ]
    }
   ],
   "source": [
    "class student:\n",
    "    \n",
    "    n = 10\n",
    "    \n",
    "    print(\"inside student class\",student.n)\n",
    "    \n",
    "    def display(self):\n",
    "        print(\"inside class method\",self.n)\n",
    "    \n",
    "    \n",
    "    \n",
    "    \n",
    "s = student()\n",
    "print(\"in and at student class\",s.n)\n",
    "s.display()"
   ]
  },
  {
   "cell_type": "code",
   "execution_count": null,
   "metadata": {},
   "outputs": [],
   "source": []
  }
 ],
 "metadata": {
  "kernelspec": {
   "display_name": "Python 3",
   "language": "python",
   "name": "python3"
  },
  "language_info": {
   "codemirror_mode": {
    "name": "ipython",
    "version": 3
   },
   "file_extension": ".py",
   "mimetype": "text/x-python",
   "name": "python",
   "nbconvert_exporter": "python",
   "pygments_lexer": "ipython3",
   "version": "3.7.4"
  }
 },
 "nbformat": 4,
 "nbformat_minor": 2
}
