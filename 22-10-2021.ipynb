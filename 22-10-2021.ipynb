{
 "cells": [
  {
   "cell_type": "code",
   "execution_count": 4,
   "metadata": {},
   "outputs": [
    {
     "name": "stdout",
     "output_type": "stream",
     "text": [
      "-2 -3 4 -1 -2 1 5 -3\n",
      "0\n"
     ]
    }
   ],
   "source": [
    "l=[int(d) for d in input().split()]\n",
    "\n",
    "max_len = 1\n",
    "max_so_far = l[0]\n",
    "\n",
    "for i in range(len(l)):\n",
    "    \n",
    "    max_len = max_len *  l[i]\n",
    "    #print(\"ML = \",max_len)\n",
    "    \n",
    "    if(max_so_far < max_len):\n",
    "        max_so_far = max_len\n",
    "        #print(max_so_far)\n",
    "        \n",
    "        \n",
    "    if(max_len < 0):\n",
    "        max_len = 0\n",
    "        \n",
    "        \n",
    "print(max_so_far)"
   ]
  },
  {
   "cell_type": "code",
   "execution_count": null,
   "metadata": {},
   "outputs": [],
   "source": []
  }
 ],
 "metadata": {
  "kernelspec": {
   "display_name": "Python 3",
   "language": "python",
   "name": "python3"
  },
  "language_info": {
   "codemirror_mode": {
    "name": "ipython",
    "version": 3
   },
   "file_extension": ".py",
   "mimetype": "text/x-python",
   "name": "python",
   "nbconvert_exporter": "python",
   "pygments_lexer": "ipython3",
   "version": "3.7.4"
  }
 },
 "nbformat": 4,
 "nbformat_minor": 2
}
