{
 "cells": [
  {
   "cell_type": "code",
   "execution_count": 4,
   "metadata": {},
   "outputs": [
    {
     "name": "stdout",
     "output_type": "stream",
     "text": [
      "Enter numbers : 5 4 3 2 7\n",
      "840\n"
     ]
    }
   ],
   "source": [
    "# consecutive sum\n",
    "\n",
    "l = list(map(int,input(\"Enter numbers : \").split()))\n",
    "\n",
    "n=len(l)\n",
    "s=1\n",
    "\n",
    "for i in range(n):\n",
    "    \n",
    "    s=s*l[i]\n",
    "    \n",
    "    \n",
    "    \n",
    "print(s)"
   ]
  },
  {
   "cell_type": "code",
   "execution_count": 7,
   "metadata": {},
   "outputs": [
    {
     "name": "stdout",
     "output_type": "stream",
     "text": [
      "Enter number : 100\n",
      "30\n"
     ]
    }
   ],
   "source": [
    "n=int(input(\"Enter number : \"))\n",
    "k=n\n",
    "m=n\n",
    "while(n!=2):\n",
    "    m=m*(n-1)\n",
    "    n=n-1\n",
    "    \n",
    "c=0 \n",
    "while(m!=0):\n",
    "    \n",
    "    if(m%10 == 0):\n",
    "        c=c+1\n",
    "    m=m//10\n",
    "    \n",
    "    \n",
    "    \n",
    "print(c)\n",
    "    "
   ]
  },
  {
   "cell_type": "code",
   "execution_count": 12,
   "metadata": {},
   "outputs": [
    {
     "name": "stdout",
     "output_type": "stream",
     "text": [
      "Enter string : abc abc2345 abc#$%()^\n",
      "6\n"
     ]
    }
   ],
   "source": [
    "n=input(\"Enter string : \")\n",
    "c=0\n",
    "for i in n:\n",
    "    if((i.isalpha() or i.isalnum() or i==\" \")):\n",
    "        continue\n",
    "    else:\n",
    "        c=c+1\n",
    "        \n",
    "        \n",
    "print(c)"
   ]
  },
  {
   "cell_type": "code",
   "execution_count": 19,
   "metadata": {},
   "outputs": [
    {
     "name": "stdout",
     "output_type": "stream",
     "text": [
      "Enter number : 5644456\n",
      "Enter removing : 5\n",
      "5\n"
     ]
    }
   ],
   "source": [
    "n=int(input(\"Enter number : \"))\n",
    "n=str(n)\n",
    "a=int(input(\"Enter removing : \"))\n",
    "c=0\n",
    "l=list(map(int,n))\n",
    "for i in l:\n",
    "    if(i==a):\n",
    "        continue\n",
    "    else:\n",
    "        c=c+1\n",
    "        \n",
    "        \n",
    "print(c)\n",
    "        "
   ]
  },
  {
   "cell_type": "code",
   "execution_count": 20,
   "metadata": {},
   "outputs": [
    {
     "name": "stdout",
     "output_type": "stream",
     "text": [
      "Enter no : 7\n",
      "Enter profits : 12 -12 13 -13 14 -14\n",
      "3\n"
     ]
    }
   ],
   "source": [
    "n=int(input(\"Enter no : \"))\n",
    "l=list(map(int,input(\"Enter profits : \").split()))\n",
    "c=0\n",
    "for i in l:\n",
    "    if i>0:\n",
    "        c=c+1\n",
    "    else:\n",
    "        continue\n",
    "        \n",
    "        \n",
    "print(c)\n",
    "\n"
   ]
  },
  {
   "cell_type": "code",
   "execution_count": 74,
   "metadata": {},
   "outputs": [
    {
     "name": "stdout",
     "output_type": "stream",
     "text": [
      "Enter number : 7\n",
      "0 1 1 2 3 5 8 \n",
      "Nth fibonacci number :  8\n"
     ]
    }
   ],
   "source": [
    "#COLLEGE CODING ROUND 1\n",
    "\n",
    "#1. Nth fibonacci number \n",
    "\n",
    "def fibo(n):\n",
    "    n1=1\n",
    "    n2=1\n",
    "    s=0\n",
    "    c=0\n",
    "    print(\"0\",n2,end=\" \")\n",
    "    if(n<=1):\n",
    "        return n1\n",
    "    else:\n",
    "        while(c<n-2):\n",
    "            s=n1+n2\n",
    "            \n",
    "            n1=n2\n",
    "            n2=s\n",
    "            print(\"\\b\",n1,end=\" \")\n",
    "            c=c+1\n",
    "            \n",
    "    return n1\n",
    "       \n",
    "    \n",
    "    \n",
    "    \n",
    "n=int(input(\"Enter number : \"))\n",
    "    \n",
    "print(\"\\n\"+\"Nth fibonacci number : \",fibo(n))\n",
    "\n"
   ]
  },
  {
   "cell_type": "code",
   "execution_count": 77,
   "metadata": {},
   "outputs": [
    {
     "name": "stdout",
     "output_type": "stream",
     "text": [
      "Enter a and b :  2 20\n",
      "Primes :  2 3 5 7 11 13 17 19 \n",
      "No of primes :  8\n"
     ]
    }
   ],
   "source": [
    "# 2. RANGE OF PRIMES\n",
    "\n",
    "\n",
    "def prime(a,b):\n",
    "    c=0\n",
    "    print(\"Primes : \",end=\" \")\n",
    "    for i in range(a,b+1):\n",
    "        \n",
    "        for j in range(2,i):\n",
    "            \n",
    "            if(i%j == 0):\n",
    "                break\n",
    "        else:\n",
    "            print(i,end=\" \")\n",
    "            c=c+1\n",
    "    return c\n",
    "            \n",
    "            \n",
    "            \n",
    "a,b = map(int,input(\"Enter a and b :  \").split())\n",
    "\n",
    "print(\"\\n\"+\"No of primes : \",prime(a,b))"
   ]
  },
  {
   "cell_type": "code",
   "execution_count": 80,
   "metadata": {},
   "outputs": [
    {
     "name": "stdout",
     "output_type": "stream",
     "text": [
      "Enter number : 582109\n",
      "sum of sums of digits :  85\n"
     ]
    },
    {
     "data": {
      "text/plain": [
       "'\\ndef summ(n):\\n    \\n    n=str(n)\\n    s,m=0,1\\n    for i in n:\\n        s=s+(m*int(i))\\n        #print(i,\" \",m,\" \",s)\\n        m=m+1\\n        \\n    return s\\n\\n\\n\\nn=int(input(\"Enter number : \"))\\n\\nprint(summ(n))\\n\\n'"
      ]
     },
     "execution_count": 80,
     "metadata": {},
     "output_type": "execute_result"
    }
   ],
   "source": [
    "# 3. Sum of cyclic numbers \n",
    "\n",
    "def summ(n):\n",
    "    n=str(n)\n",
    "    s=0\n",
    "    for i in range(len(n)):\n",
    "        for j in n[i:]:\n",
    "            s=s+int(j)\n",
    "            \n",
    "            \n",
    "\n",
    "    return s\n",
    "\n",
    "n=int(input(\"Enter number : \"))\n",
    "print(\"sum of sums of digits : \",summ(n))\n",
    "\n",
    "\n",
    "\"\"\"\n",
    "def summ(n):\n",
    "    \n",
    "    n=str(n)\n",
    "    s,m=0,1\n",
    "    for i in n:\n",
    "        s=s+(m*int(i))\n",
    "        #print(i,\" \",m,\" \",s)\n",
    "        m=m+1\n",
    "        \n",
    "    return s\n",
    "\n",
    "\n",
    "\n",
    "n=int(input(\"Enter number : \"))\n",
    "\n",
    "print(summ(n))\n",
    "\n",
    "\"\"\""
   ]
  },
  {
   "cell_type": "code",
   "execution_count": null,
   "metadata": {},
   "outputs": [],
   "source": []
  },
  {
   "cell_type": "code",
   "execution_count": 81,
   "metadata": {},
   "outputs": [
    {
     "name": "stdout",
     "output_type": "stream",
     "text": [
      "Enter numbers : 123 582 175\n",
      "PIN =  8122\n"
     ]
    }
   ],
   "source": [
    "# 4. PIN\n",
    "\n",
    "\n",
    "a,b,c = map(int,input(\"Enter numbers : \").split())\n",
    "k=3\n",
    "\n",
    "\n",
    "a=str(a)\n",
    "b=str(b)\n",
    "c=str(c)\n",
    "\n",
    "\n",
    "l1=list(map(int,a))\n",
    "l2=list(map(int,b))\n",
    "l3=list(map(int,c))\n",
    "\n",
    "\n",
    "i=0\n",
    "\n",
    "p=0\n",
    "j=3\n",
    "m=0\n",
    "while(k!=0):\n",
    "    \n",
    "    if(l1[i]>l2[i] and l1[i]>l3[i] and l1[i]>m):\n",
    "        m=l1[i]\n",
    "    elif(l2[i]>l3[i] and l2[i]>m):\n",
    "        m=l2[i]\n",
    "    elif(l3[i]> m):\n",
    "        m=l3[i]\n",
    "        \n",
    "    #print(m)\n",
    "    i=i+1\n",
    "    k=k-1\n",
    "    \n",
    "p =p*10 + m\n",
    "\n",
    "i=0 \n",
    "k=3\n",
    "while(k!=0):\n",
    "    if(l1[i]<l2[i] and l1[i]<l3[i]):\n",
    "        p = p*10 + l1[i]\n",
    "    elif(l2[i] < l3[i]):\n",
    "        p = p*10 + l2[i]\n",
    "    else:\n",
    "        p = p*10 + l3[i]\n",
    "        \n",
    "    i=i+1\n",
    "    k=k-1\n",
    "    \n",
    "  \n",
    "        \n",
    "        \n",
    "print(\"PIN = \",p)\n",
    "    \n",
    "    "
   ]
  },
  {
   "cell_type": "code",
   "execution_count": 86,
   "metadata": {},
   "outputs": [
    {
     "name": "stdout",
     "output_type": "stream",
     "text": [
      "Enter a,b,c,d : 1 3 6 17\n",
      "\n",
      "Series :  [1, 3, 6, 8, 11, 13, 16, 18, 21, 23, 26, 28, 31, 33, 36, 38, 41]\n",
      "\n",
      " 17th element in series is  41\n"
     ]
    }
   ],
   "source": [
    "# 5. SERIES \n",
    "\n",
    "def series(a,b,c,n):\n",
    "    l=list(map(int,(a,b,c)))\n",
    "    l=[0]*(n-3)\n",
    "    l.insert(0,a)\n",
    "    l.insert(1,b)\n",
    "    l.insert(2,c)\n",
    "    d=2\n",
    "    print(\"\\n\"+\"Series : \",end=\" \")\n",
    "    while(d!=n-1):\n",
    "        \n",
    "        l[d+1]=l[d]+(l[d-1]-l[d-2])\n",
    "        d=d+1\n",
    "        \n",
    "    print(l)\n",
    "    return l[d]\n",
    "        \n",
    "    \n",
    "    \n",
    "    \n",
    "a,b,c,n = map(int,input(\"Enter a,b,c,d : \").split())\n",
    "\n",
    "print(\"\\n\",n,\"\\bth element in series is \",series(a,b,c,n))"
   ]
  },
  {
   "cell_type": "code",
   "execution_count": null,
   "metadata": {},
   "outputs": [],
   "source": []
  },
  {
   "cell_type": "code",
   "execution_count": null,
   "metadata": {},
   "outputs": [],
   "source": []
  }
 ],
 "metadata": {
  "kernelspec": {
   "display_name": "Python 3",
   "language": "python",
   "name": "python3"
  },
  "language_info": {
   "codemirror_mode": {
    "name": "ipython",
    "version": 3
   },
   "file_extension": ".py",
   "mimetype": "text/x-python",
   "name": "python",
   "nbconvert_exporter": "python",
   "pygments_lexer": "ipython3",
   "version": "3.7.4"
  }
 },
 "nbformat": 4,
 "nbformat_minor": 2
}
