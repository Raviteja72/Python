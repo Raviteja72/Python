{
 "cells": [
  {
   "cell_type": "code",
   "execution_count": 20,
   "metadata": {},
   "outputs": [
    {
     "name": "stdout",
     "output_type": "stream",
     "text": [
      "Enter number : 2 9\n",
      "1\n"
     ]
    }
   ],
   "source": [
    "# HCF - HIGHESST COMMON FACTOR\n",
    "\n",
    "a,b = map(int,input(\"Enter number : \").split())\n",
    "mul=[]\n",
    "m=0\n",
    "if(a<b):\n",
    "    m=a\n",
    "else:\n",
    "    m=b\n",
    "    \n",
    "for i in range(1,m+1):\n",
    "    if(a%i == 0 and b%i == 0):\n",
    "        mul.append(i)\n",
    "        \n",
    "        \n",
    "print(max(mul))"
   ]
  },
  {
   "cell_type": "code",
   "execution_count": 69,
   "metadata": {},
   "outputs": [
    {
     "name": "stdout",
     "output_type": "stream",
     "text": [
      "Enter number : 12 84\n",
      "LCM =  84\n"
     ]
    }
   ],
   "source": [
    "# LCM  - LEAST COMMON MULTIPLE\n",
    "\n",
    "a,b = map(int,input(\"Enter number : \").split())\n",
    "\n",
    "large=0\n",
    "if(a>b):\n",
    "    large=a\n",
    "else:\n",
    "    large=b\n",
    "    \n",
    "    \n",
    "while(True):\n",
    "    if(large%a == 0 and large%b == 0):\n",
    "        print(\"LCM = \",large)\n",
    "        break\n",
    "    large = large+1\n",
    "\n",
    "\n",
    "        "
   ]
  },
  {
   "cell_type": "code",
   "execution_count": 22,
   "metadata": {},
   "outputs": [
    {
     "name": "stdout",
     "output_type": "stream",
     "text": [
      "Enter a,b values : 60 72\n",
      "GCD =  12\n"
     ]
    }
   ],
   "source": [
    "# GCD - GREATEST COMMON DIVISOR\n",
    "\n",
    "def gcd(a,b):\n",
    "    m=0\n",
    "    np=[]\n",
    "    if(a<b):\n",
    "        m=a\n",
    "    else:\n",
    "        m=b\n",
    "    for i in range(1,m+1):\n",
    "        if(a%i == 0 and b%i == 0):\n",
    "            np.append(i)\n",
    "            \n",
    "    return max(np)\n",
    "\n",
    "\n",
    "a,b=map(int,input(\"Enter a,b values : \").split())\n",
    "\n",
    "print(\"GCD = \",gcd(a,b))              "
   ]
  },
  {
   "cell_type": "code",
   "execution_count": 27,
   "metadata": {},
   "outputs": [
    {
     "name": "stdout",
     "output_type": "stream",
     "text": [
      "Binary number : 010111\n",
      "Decimal Number :  23\n",
      "0o23577\n"
     ]
    }
   ],
   "source": [
    "# Binary to Decimal Octal\n",
    "\n",
    "n=int(input(\"Binary number : \"))\n",
    "l=n\n",
    "r=0\n",
    "k=1\n",
    "d=0\n",
    "while(n!=0):\n",
    "    r=n%10\n",
    "    d = d+ r*k\n",
    "    n=n//10\n",
    "    k=k*2\n",
    "    #print(k)\n",
    "    \n",
    "    \n",
    "print(\"Decimal Number : \",d)\n",
    "print(oct(l))\n",
    "#print(\"Octal Number : \",oct(l).replace(\"0o\",\"\"))"
   ]
  },
  {
   "cell_type": "code",
   "execution_count": 64,
   "metadata": {},
   "outputs": [
    {
     "name": "stdout",
     "output_type": "stream",
     "text": [
      "Decimal Number : 37\n",
      "Binary Number :  100101\n",
      "Octal Number :  45\n"
     ]
    }
   ],
   "source": [
    "# Decimal to Binary Octal\n",
    "\n",
    "n = int(input(\"Decimal Number : \"))\n",
    "num=0\n",
    "\n",
    "bin_num = bin(n)\n",
    "\n",
    "print(\"Binary Number : \", bin_num.replace(\"0b\",\"\"))\n",
    "\n",
    "oct_num = oct(n)\n",
    "\n",
    "print(\"Octal Number : \",oct(n).replace(\"0o\",\"\"))\n",
    "\n"
   ]
  },
  {
   "cell_type": "code",
   "execution_count": 59,
   "metadata": {},
   "outputs": [
    {
     "name": "stdout",
     "output_type": "stream",
     "text": [
      "Octal Number :  23\n"
     ]
    }
   ],
   "source": [
    "# Binary to Octal\n",
    "\n",
    "n = 0b10011\n",
    "n= oct(n).replace(\"0o\",\"\")\n",
    "print(\"Octal Number : \",str(n))"
   ]
  },
  {
   "cell_type": "code",
   "execution_count": 67,
   "metadata": {},
   "outputs": [
    {
     "name": "stdout",
     "output_type": "stream",
     "text": [
      "Enter ranges : 2 20\n",
      "2,3,5,7,11,13,17,19,"
     ]
    }
   ],
   "source": [
    "# Range of Primes\n",
    "\n",
    "n,m=map(int,input(\"Enter ranges : \").split())\n",
    "\n",
    "for i in range(n,m+1):\n",
    "    for j in range(2,i):\n",
    "        if(i%j == 0):\n",
    "            break\n",
    "    else:\n",
    "        print(i,end=\",\")"
   ]
  },
  {
   "cell_type": "code",
   "execution_count": null,
   "metadata": {},
   "outputs": [],
   "source": []
  },
  {
   "cell_type": "code",
   "execution_count": null,
   "metadata": {},
   "outputs": [],
   "source": []
  },
  {
   "cell_type": "code",
   "execution_count": null,
   "metadata": {},
   "outputs": [],
   "source": []
  },
  {
   "cell_type": "code",
   "execution_count": null,
   "metadata": {},
   "outputs": [],
   "source": []
  }
 ],
 "metadata": {
  "kernelspec": {
   "display_name": "Python 3",
   "language": "python",
   "name": "python3"
  },
  "language_info": {
   "codemirror_mode": {
    "name": "ipython",
    "version": 3
   },
   "file_extension": ".py",
   "mimetype": "text/x-python",
   "name": "python",
   "nbconvert_exporter": "python",
   "pygments_lexer": "ipython3",
   "version": "3.7.4"
  }
 },
 "nbformat": 4,
 "nbformat_minor": 2
}
