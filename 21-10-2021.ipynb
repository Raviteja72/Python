{
 "cells": [
  {
   "cell_type": "code",
   "execution_count": 27,
   "metadata": {},
   "outputs": [
    {
     "name": "stdout",
     "output_type": "stream",
     "text": [
      "Enter string : leet\n",
      "DD\n",
      "DD\n",
      "DD\n",
      "UU\n",
      "UU\n",
      "UU\n",
      "UU\n",
      "UU\n",
      "UU\n",
      "UU\n",
      "UU\n",
      "UU\n",
      "UU\n",
      "UU\n",
      "UU\n",
      "UU\n",
      "UU\n",
      "UU\n"
     ]
    }
   ],
   "source": [
    "l=[\"abcde\",\"fghij\",\"klmno\",\"pqrst\",\"uvwxy\"]\n",
    "d=input(\"Enter string : \")\n",
    "s1=s2=0\n",
    "n3=n4=0\n",
    "\n",
    "for i in d:\n",
    "    s3=0\n",
    "    s4=0\n",
    "    \n",
    "    for j,v in enumerate(l):\n",
    "        \n",
    "        #print(j)\n",
    "        for k in range(len(v)):\n",
    "            #print(k)\n",
    "            \n",
    "            if(v[k] == i):\n",
    "                s3=j\n",
    "                s4=k\n",
    "                \n",
    "            if(s3>s1):\n",
    "                print(\"D\"*s3)\n",
    "                n3=s3\n",
    "                \n",
    "                break\n",
    "\n",
    "            if(s4>s2):\n",
    "                print(\"R\"*s4)\n",
    "                n4=s4\n",
    "                break\n",
    "                \n",
    "            elif(s1>s3):\n",
    "                print(\"U\"*s1)\n",
    "                n3=s1\n",
    "                break\n",
    "            elif(s2>s4):\n",
    "                print(\"L\"*s2)\n",
    "                n4=s2\n",
    "                break\n",
    "    s1 = n3\n",
    "    s2 = n4\n",
    "    \n",
    "    \n",
    "    \n",
    "                \n",
    "            \n",
    "\n"
   ]
  },
  {
   "cell_type": "code",
   "execution_count": null,
   "metadata": {},
   "outputs": [],
   "source": []
  },
  {
   "cell_type": "code",
   "execution_count": null,
   "metadata": {},
   "outputs": [],
   "source": []
  },
  {
   "cell_type": "code",
   "execution_count": null,
   "metadata": {},
   "outputs": [],
   "source": []
  },
  {
   "cell_type": "code",
   "execution_count": null,
   "metadata": {},
   "outputs": [],
   "source": []
  },
  {
   "cell_type": "code",
   "execution_count": null,
   "metadata": {},
   "outputs": [],
   "source": []
  }
 ],
 "metadata": {
  "kernelspec": {
   "display_name": "Python 3",
   "language": "python",
   "name": "python3"
  },
  "language_info": {
   "codemirror_mode": {
    "name": "ipython",
    "version": 3
   },
   "file_extension": ".py",
   "mimetype": "text/x-python",
   "name": "python",
   "nbconvert_exporter": "python",
   "pygments_lexer": "ipython3",
   "version": "3.7.4"
  }
 },
 "nbformat": 4,
 "nbformat_minor": 2
}
