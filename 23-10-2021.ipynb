{
 "cells": [
  {
   "cell_type": "code",
   "execution_count": 1,
   "metadata": {},
   "outputs": [
    {
     "name": "stdout",
     "output_type": "stream",
     "text": [
      "Enter elements : -2 -1 4 -1 3 2 -4 -3\n",
      "8\n"
     ]
    }
   ],
   "source": [
    "l=list(map(int,input(\"Enter elements : \").split()))\n",
    "\n",
    "\n",
    "ml=0\n",
    "msf=l[0]\n",
    "\n",
    "for i in range(len(l)):\n",
    "    \n",
    "    ml = ml + l[i]\n",
    "    \n",
    "    if(msf < ml):\n",
    "        msf = ml\n",
    "    if(ml < 0):\n",
    "        ml = 0\n",
    "        \n",
    "        \n",
    "print(msf)"
   ]
  },
  {
   "cell_type": "code",
   "execution_count": 4,
   "metadata": {},
   "outputs": [
    {
     "name": "stdout",
     "output_type": "stream",
     "text": [
      "Enter elements : 1 -2 3 0 -10 -2 0\n",
      "20\n"
     ]
    }
   ],
   "source": [
    "l=[int(d) for d in input(\"Enter elements : \").split()]\n",
    "\n",
    "res=0\n",
    "\n",
    "for i in range(len(l)):\n",
    "    mul = l[i]\n",
    "    for j in range(i+1,len(l)):\n",
    "        res = max(res,mul)\n",
    "        mul=mul * l[j]\n",
    "    res=max(res,mul)\n",
    "    \n",
    "print(res)\n"
   ]
  },
  {
   "cell_type": "code",
   "execution_count": 1,
   "metadata": {},
   "outputs": [
    {
     "name": "stdout",
     "output_type": "stream",
     "text": [
      "Enter elements : 1 -2 -3 0 1 2 3 -3\n",
      "mul =  1\n",
      "res =  1 \tmul =  -2\n",
      "res =  1 \tmul =  6\n",
      "res =  6 \tmul =  0\n",
      "res =  6 \tmul =  0\n",
      "res =  6 \tmul =  0\n",
      "res =  6 \tmul =  0\n",
      "res =  6 \tmul =  0\n",
      "mul =  -2\n",
      "res =  6 \tmul =  6\n",
      "res =  6 \tmul =  0\n",
      "res =  6 \tmul =  0\n",
      "res =  6 \tmul =  0\n",
      "res =  6 \tmul =  0\n",
      "res =  6 \tmul =  0\n",
      "mul =  -3\n",
      "res =  6 \tmul =  0\n",
      "res =  6 \tmul =  0\n",
      "res =  6 \tmul =  0\n",
      "res =  6 \tmul =  0\n",
      "res =  6 \tmul =  0\n",
      "mul =  0\n",
      "res =  6 \tmul =  0\n",
      "res =  6 \tmul =  0\n",
      "res =  6 \tmul =  0\n",
      "res =  6 \tmul =  0\n",
      "mul =  1\n",
      "res =  6 \tmul =  2\n",
      "res =  6 \tmul =  6\n",
      "res =  6 \tmul =  -18\n",
      "mul =  2\n",
      "res =  6 \tmul =  6\n",
      "res =  6 \tmul =  -18\n",
      "mul =  3\n",
      "res =  6 \tmul =  -9\n",
      "mul =  -3\n",
      "6\n"
     ]
    }
   ],
   "source": [
    "l = [int(d) for d in input(\"Enter elements : \").split()]\n",
    "\n",
    "res = l[0]\n",
    "for i in range(len(l)):\n",
    "    \n",
    "    mul = l[i]\n",
    "    print(\"mul = \",mul)\n",
    "    for j in range(i+1,len(l)):\n",
    "        res = max(res,mul)\n",
    "        mul = mul * l[j]\n",
    "        print(\"res = \",res,\"\\tmul = \",mul)\n",
    "    res = max(res,mul)\n",
    "    \n",
    "    \n",
    "print(res)\n",
    "       "
   ]
  },
  {
   "cell_type": "code",
   "execution_count": null,
   "metadata": {},
   "outputs": [],
   "source": []
  }
 ],
 "metadata": {
  "kernelspec": {
   "display_name": "Python 3",
   "language": "python",
   "name": "python3"
  },
  "language_info": {
   "codemirror_mode": {
    "name": "ipython",
    "version": 3
   },
   "file_extension": ".py",
   "mimetype": "text/x-python",
   "name": "python",
   "nbconvert_exporter": "python",
   "pygments_lexer": "ipython3",
   "version": "3.7.4"
  }
 },
 "nbformat": 4,
 "nbformat_minor": 2
}
